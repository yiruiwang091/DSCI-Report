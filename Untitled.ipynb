{
 "cells": [
  {
   "cell_type": "code",
   "execution_count": 1,
   "metadata": {},
   "outputs": [
    {
     "name": "stderr",
     "output_type": "stream",
     "text": [
      "── \u001b[1mAttaching packages\u001b[22m ─────────────────────────────────────── tidyverse 1.3.0 ──\n",
      "\n",
      "\u001b[32m✔\u001b[39m \u001b[34mggplot2\u001b[39m 3.3.2     \u001b[32m✔\u001b[39m \u001b[34mpurrr  \u001b[39m 0.3.4\n",
      "\u001b[32m✔\u001b[39m \u001b[34mtibble \u001b[39m 3.0.3     \u001b[32m✔\u001b[39m \u001b[34mdplyr  \u001b[39m 1.0.2\n",
      "\u001b[32m✔\u001b[39m \u001b[34mtidyr  \u001b[39m 1.1.2     \u001b[32m✔\u001b[39m \u001b[34mstringr\u001b[39m 1.4.0\n",
      "\u001b[32m✔\u001b[39m \u001b[34mreadr  \u001b[39m 1.3.1     \u001b[32m✔\u001b[39m \u001b[34mforcats\u001b[39m 0.5.0\n",
      "\n",
      "Warning message:\n",
      "“package ‘ggplot2’ was built under R version 4.0.1”\n",
      "Warning message:\n",
      "“package ‘tibble’ was built under R version 4.0.2”\n",
      "Warning message:\n",
      "“package ‘tidyr’ was built under R version 4.0.2”\n",
      "Warning message:\n",
      "“package ‘dplyr’ was built under R version 4.0.2”\n",
      "── \u001b[1mConflicts\u001b[22m ────────────────────────────────────────── tidyverse_conflicts() ──\n",
      "\u001b[31m✖\u001b[39m \u001b[34mdplyr\u001b[39m::\u001b[32mfilter()\u001b[39m masks \u001b[34mstats\u001b[39m::filter()\n",
      "\u001b[31m✖\u001b[39m \u001b[34mdplyr\u001b[39m::\u001b[32mlag()\u001b[39m    masks \u001b[34mstats\u001b[39m::lag()\n",
      "\n",
      "Warning message:\n",
      "“package ‘tidymodels’ was built under R version 4.0.2”\n",
      "── \u001b[1mAttaching packages\u001b[22m ────────────────────────────────────── tidymodels 0.1.1 ──\n",
      "\n",
      "\u001b[32m✔\u001b[39m \u001b[34mbroom    \u001b[39m 0.7.0      \u001b[32m✔\u001b[39m \u001b[34mrecipes  \u001b[39m 0.1.13\n",
      "\u001b[32m✔\u001b[39m \u001b[34mdials    \u001b[39m 0.0.9      \u001b[32m✔\u001b[39m \u001b[34mrsample  \u001b[39m 0.0.7 \n",
      "\u001b[32m✔\u001b[39m \u001b[34minfer    \u001b[39m 0.5.4      \u001b[32m✔\u001b[39m \u001b[34mtune     \u001b[39m 0.1.1 \n",
      "\u001b[32m✔\u001b[39m \u001b[34mmodeldata\u001b[39m 0.0.2      \u001b[32m✔\u001b[39m \u001b[34mworkflows\u001b[39m 0.2.0 \n",
      "\u001b[32m✔\u001b[39m \u001b[34mparsnip  \u001b[39m 0.1.3      \u001b[32m✔\u001b[39m \u001b[34myardstick\u001b[39m 0.0.7 \n",
      "\n",
      "Warning message:\n",
      "“package ‘broom’ was built under R version 4.0.2”\n",
      "Warning message:\n",
      "“package ‘dials’ was built under R version 4.0.2”\n",
      "Warning message:\n",
      "“package ‘infer’ was built under R version 4.0.3”\n",
      "Warning message:\n",
      "“package ‘modeldata’ was built under R version 4.0.1”\n",
      "Warning message:\n",
      "“package ‘parsnip’ was built under R version 4.0.2”\n",
      "Warning message:\n",
      "“package ‘recipes’ was built under R version 4.0.1”\n",
      "Warning message:\n",
      "“package ‘tune’ was built under R version 4.0.2”\n",
      "Warning message:\n",
      "“package ‘workflows’ was built under R version 4.0.2”\n",
      "Warning message:\n",
      "“package ‘yardstick’ was built under R version 4.0.2”\n",
      "── \u001b[1mConflicts\u001b[22m ───────────────────────────────────────── tidymodels_conflicts() ──\n",
      "\u001b[31m✖\u001b[39m \u001b[34mscales\u001b[39m::\u001b[32mdiscard()\u001b[39m masks \u001b[34mpurrr\u001b[39m::discard()\n",
      "\u001b[31m✖\u001b[39m \u001b[34mdplyr\u001b[39m::\u001b[32mfilter()\u001b[39m   masks \u001b[34mstats\u001b[39m::filter()\n",
      "\u001b[31m✖\u001b[39m \u001b[34mrecipes\u001b[39m::\u001b[32mfixed()\u001b[39m  masks \u001b[34mstringr\u001b[39m::fixed()\n",
      "\u001b[31m✖\u001b[39m \u001b[34mdplyr\u001b[39m::\u001b[32mlag()\u001b[39m      masks \u001b[34mstats\u001b[39m::lag()\n",
      "\u001b[31m✖\u001b[39m \u001b[34myardstick\u001b[39m::\u001b[32mspec()\u001b[39m masks \u001b[34mreadr\u001b[39m::spec()\n",
      "\u001b[31m✖\u001b[39m \u001b[34mrecipes\u001b[39m::\u001b[32mstep()\u001b[39m   masks \u001b[34mstats\u001b[39m::step()\n",
      "\n"
     ]
    }
   ],
   "source": [
    "library(tidyverse)\n",
    "library(tidymodels)"
   ]
  },
  {
   "cell_type": "code",
   "execution_count": 2,
   "metadata": {},
   "outputs": [
    {
     "name": "stderr",
     "output_type": "stream",
     "text": [
      "Parsed with column specification:\n",
      "cols(\n",
      "  `Mean of the integrated profile` = \u001b[32mcol_double()\u001b[39m,\n",
      "  `Standard deviation of the integrated profile` = \u001b[32mcol_double()\u001b[39m,\n",
      "  `Excess kurtosis of the integrated profile` = \u001b[32mcol_double()\u001b[39m,\n",
      "  `Skewness of the integrated profile` = \u001b[32mcol_double()\u001b[39m,\n",
      "  `Mean of the DM-SNR curve` = \u001b[32mcol_double()\u001b[39m,\n",
      "  `Standard deviation of the DM-SNR curve` = \u001b[32mcol_double()\u001b[39m,\n",
      "  `Excess kurtosis of the DM-SNR curve` = \u001b[32mcol_double()\u001b[39m,\n",
      "  `Skewness of the DM-SNR curve` = \u001b[32mcol_double()\u001b[39m,\n",
      "  target_class = \u001b[32mcol_double()\u001b[39m\n",
      ")\n",
      "\n"
     ]
    }
   ],
   "source": [
    "url <- url <- \"https://raw.githubusercontent.com/Acha220/DSCI_Project_Proposal/main/pulsar_data_train.csv\"\n",
    "pulsar <- read_csv(url)"
   ]
  },
  {
   "cell_type": "code",
   "execution_count": 3,
   "metadata": {},
   "outputs": [
    {
     "data": {
      "text/html": [
       "<table>\n",
       "<caption>A tibble: 6 × 9</caption>\n",
       "<thead>\n",
       "\t<tr><th scope=col>Mean of the integrated profile</th><th scope=col>Standard deviation of the integrated profile</th><th scope=col>Excess kurtosis of the integrated profile</th><th scope=col>Skewness of the integrated profile</th><th scope=col>Mean of the DM-SNR curve</th><th scope=col>Standard deviation of the DM-SNR curve</th><th scope=col>Excess kurtosis of the DM-SNR curve</th><th scope=col>Skewness of the DM-SNR curve</th><th scope=col>target_class</th></tr>\n",
       "\t<tr><th scope=col>&lt;dbl&gt;</th><th scope=col>&lt;dbl&gt;</th><th scope=col>&lt;dbl&gt;</th><th scope=col>&lt;dbl&gt;</th><th scope=col>&lt;dbl&gt;</th><th scope=col>&lt;dbl&gt;</th><th scope=col>&lt;dbl&gt;</th><th scope=col>&lt;dbl&gt;</th><th scope=col>&lt;dbl&gt;</th></tr>\n",
       "</thead>\n",
       "<tbody>\n",
       "\t<tr><td>121.15625</td><td>48.37297</td><td> 0.3754847</td><td>-0.01316549</td><td> 3.168896</td><td>18.39937</td><td>7.449874</td><td> 65.159298</td><td>0</td></tr>\n",
       "\t<tr><td> 76.96875</td><td>36.17556</td><td> 0.7128979</td><td> 3.38871856</td><td> 2.399666</td><td>17.57100</td><td>9.414652</td><td>102.722975</td><td>0</td></tr>\n",
       "\t<tr><td>130.58594</td><td>53.22953</td><td> 0.1334083</td><td>-0.29724164</td><td> 2.743311</td><td>22.36255</td><td>8.508364</td><td> 74.031324</td><td>0</td></tr>\n",
       "\t<tr><td>156.39844</td><td>48.86594</td><td>-0.2159886</td><td>-0.17129365</td><td>17.471572</td><td>      NA</td><td>2.958066</td><td>  7.197842</td><td>0</td></tr>\n",
       "\t<tr><td> 84.80469</td><td>36.11766</td><td> 0.8250128</td><td> 3.27412537</td><td> 2.790134</td><td>20.61801</td><td>8.405008</td><td> 76.291128</td><td>0</td></tr>\n",
       "\t<tr><td>121.00781</td><td>47.17694</td><td> 0.2297081</td><td> 0.09133623</td><td> 2.036789</td><td>      NA</td><td>9.546051</td><td>112.131721</td><td>0</td></tr>\n",
       "</tbody>\n",
       "</table>\n"
      ],
      "text/latex": [
       "A tibble: 6 × 9\n",
       "\\begin{tabular}{lllllllll}\n",
       " Mean of the integrated profile & Standard deviation of the integrated profile & Excess kurtosis of the integrated profile & Skewness of the integrated profile & Mean of the DM-SNR curve & Standard deviation of the DM-SNR curve & Excess kurtosis of the DM-SNR curve & Skewness of the DM-SNR curve & target\\_class\\\\\n",
       " <dbl> & <dbl> & <dbl> & <dbl> & <dbl> & <dbl> & <dbl> & <dbl> & <dbl>\\\\\n",
       "\\hline\n",
       "\t 121.15625 & 48.37297 &  0.3754847 & -0.01316549 &  3.168896 & 18.39937 & 7.449874 &  65.159298 & 0\\\\\n",
       "\t  76.96875 & 36.17556 &  0.7128979 &  3.38871856 &  2.399666 & 17.57100 & 9.414652 & 102.722975 & 0\\\\\n",
       "\t 130.58594 & 53.22953 &  0.1334083 & -0.29724164 &  2.743311 & 22.36255 & 8.508364 &  74.031324 & 0\\\\\n",
       "\t 156.39844 & 48.86594 & -0.2159886 & -0.17129365 & 17.471572 &       NA & 2.958066 &   7.197842 & 0\\\\\n",
       "\t  84.80469 & 36.11766 &  0.8250128 &  3.27412537 &  2.790134 & 20.61801 & 8.405008 &  76.291128 & 0\\\\\n",
       "\t 121.00781 & 47.17694 &  0.2297081 &  0.09133623 &  2.036789 &       NA & 9.546051 & 112.131721 & 0\\\\\n",
       "\\end{tabular}\n"
      ],
      "text/markdown": [
       "\n",
       "A tibble: 6 × 9\n",
       "\n",
       "| Mean of the integrated profile &lt;dbl&gt; | Standard deviation of the integrated profile &lt;dbl&gt; | Excess kurtosis of the integrated profile &lt;dbl&gt; | Skewness of the integrated profile &lt;dbl&gt; | Mean of the DM-SNR curve &lt;dbl&gt; | Standard deviation of the DM-SNR curve &lt;dbl&gt; | Excess kurtosis of the DM-SNR curve &lt;dbl&gt; | Skewness of the DM-SNR curve &lt;dbl&gt; | target_class &lt;dbl&gt; |\n",
       "|---|---|---|---|---|---|---|---|---|\n",
       "| 121.15625 | 48.37297 |  0.3754847 | -0.01316549 |  3.168896 | 18.39937 | 7.449874 |  65.159298 | 0 |\n",
       "|  76.96875 | 36.17556 |  0.7128979 |  3.38871856 |  2.399666 | 17.57100 | 9.414652 | 102.722975 | 0 |\n",
       "| 130.58594 | 53.22953 |  0.1334083 | -0.29724164 |  2.743311 | 22.36255 | 8.508364 |  74.031324 | 0 |\n",
       "| 156.39844 | 48.86594 | -0.2159886 | -0.17129365 | 17.471572 |       NA | 2.958066 |   7.197842 | 0 |\n",
       "|  84.80469 | 36.11766 |  0.8250128 |  3.27412537 |  2.790134 | 20.61801 | 8.405008 |  76.291128 | 0 |\n",
       "| 121.00781 | 47.17694 |  0.2297081 |  0.09133623 |  2.036789 |       NA | 9.546051 | 112.131721 | 0 |\n",
       "\n"
      ],
      "text/plain": [
       "  Mean of the integrated profile Standard deviation of the integrated profile\n",
       "1 121.15625                      48.37297                                    \n",
       "2  76.96875                      36.17556                                    \n",
       "3 130.58594                      53.22953                                    \n",
       "4 156.39844                      48.86594                                    \n",
       "5  84.80469                      36.11766                                    \n",
       "6 121.00781                      47.17694                                    \n",
       "  Excess kurtosis of the integrated profile Skewness of the integrated profile\n",
       "1  0.3754847                                -0.01316549                       \n",
       "2  0.7128979                                 3.38871856                       \n",
       "3  0.1334083                                -0.29724164                       \n",
       "4 -0.2159886                                -0.17129365                       \n",
       "5  0.8250128                                 3.27412537                       \n",
       "6  0.2297081                                 0.09133623                       \n",
       "  Mean of the DM-SNR curve Standard deviation of the DM-SNR curve\n",
       "1  3.168896                18.39937                              \n",
       "2  2.399666                17.57100                              \n",
       "3  2.743311                22.36255                              \n",
       "4 17.471572                      NA                              \n",
       "5  2.790134                20.61801                              \n",
       "6  2.036789                      NA                              \n",
       "  Excess kurtosis of the DM-SNR curve Skewness of the DM-SNR curve target_class\n",
       "1 7.449874                             65.159298                   0           \n",
       "2 9.414652                            102.722975                   0           \n",
       "3 8.508364                             74.031324                   0           \n",
       "4 2.958066                              7.197842                   0           \n",
       "5 8.405008                             76.291128                   0           \n",
       "6 9.546051                            112.131721                   0           "
      ]
     },
     "metadata": {},
     "output_type": "display_data"
    }
   ],
   "source": [
    "head(pulsar)"
   ]
  },
  {
   "cell_type": "code",
   "execution_count": 4,
   "metadata": {},
   "outputs": [],
   "source": [
    "colnames(pulsar) <- c(\"mean_profile\", \"sd_profile\", \"kurtosis_profile\", \"skew_profile\", \"mean_dmsnr\", \"sd_dmsnr\", \"kurtosis_dmsnr\", \"skew_dmsnr\", \"target_class\")"
   ]
  },
  {
   "cell_type": "code",
   "execution_count": 5,
   "metadata": {},
   "outputs": [],
   "source": [
    "pulsar <- pulsar %>%\n",
    "mutate(target_class = as_factor(target_class))"
   ]
  },
  {
   "cell_type": "code",
   "execution_count": 6,
   "metadata": {},
   "outputs": [],
   "source": [
    "pulsar_split <- initial_split(pulsar, prop = 0.75, strata = target_class)\n",
    "pulsar_training <- training(pulsar_split)\n",
    "pulsar_testing <- testing(pulsar_split)"
   ]
  },
  {
   "cell_type": "code",
   "execution_count": 7,
   "metadata": {},
   "outputs": [
    {
     "name": "stdout",
     "output_type": "stream",
     "text": [
      "Rows: 9,396\n",
      "Columns: 9\n",
      "$ mean_profile     \u001b[3m\u001b[90m<dbl>\u001b[39m\u001b[23m 121.15625, 76.96875, 156.39844, 121.00781, 109.40625…\n",
      "$ sd_profile       \u001b[3m\u001b[90m<dbl>\u001b[39m\u001b[23m 48.37297, 36.17556, 48.86594, 47.17694, 55.91252, 40…\n",
      "$ kurtosis_profile \u001b[3m\u001b[90m<dbl>\u001b[39m\u001b[23m 0.37548466, 0.71289786, -0.21598860, 0.22970813, 0.5…\n",
      "$ skew_profile     \u001b[3m\u001b[90m<dbl>\u001b[39m\u001b[23m -0.01316549, 3.38871856, -0.17129365, 0.09133623, 0.…\n",
      "$ mean_dmsnr       \u001b[3m\u001b[90m<dbl>\u001b[39m\u001b[23m 3.1688963, 2.3996656, 17.4715719, 2.0367893, 2.79765…\n",
      "$ sd_dmsnr         \u001b[3m\u001b[90m<dbl>\u001b[39m\u001b[23m 18.399367, 17.570997, NA, NA, 19.496527, 18.217741, …\n",
      "$ kurtosis_dmsnr   \u001b[3m\u001b[90m<dbl>\u001b[39m\u001b[23m 7.4498741, 9.4146523, 2.9580659, 9.5460511, 9.443282…\n",
      "$ skew_dmsnr       \u001b[3m\u001b[90m<dbl>\u001b[39m\u001b[23m 65.1592977, 102.7229747, 7.1978419, 112.1317212, 97.…\n",
      "$ target_class     \u001b[3m\u001b[90m<fct>\u001b[39m\u001b[23m 0, 0, 0, 0, 0, 0, 0, 0, 0, 0, 0, 0, 0, 0, 0, 0, 0, 0…\n"
     ]
    }
   ],
   "source": [
    "glimpse(pulsar_training)"
   ]
  },
  {
   "cell_type": "code",
   "execution_count": 8,
   "metadata": {},
   "outputs": [],
   "source": [
    "pulsar_mean <- pulsar_training %>% \n",
    "    select(target_class, mean_profile, mean_dmsnr) %>% \n",
    "    filter(!is.na(mean_profile)) %>% \n",
    "    filter(!is.na(mean_dmsnr))"
   ]
  },
  {
   "cell_type": "code",
   "execution_count": 9,
   "metadata": {},
   "outputs": [
    {
     "data": {
      "text/plain": [
       "Data Recipe\n",
       "\n",
       "Inputs:\n",
       "\n",
       "      role #variables\n",
       "   outcome          1\n",
       " predictor          2\n",
       "\n",
       "Operations:\n",
       "\n",
       "Scaling for all_predictors()\n",
       "Centering for all_predictors()"
      ]
     },
     "metadata": {},
     "output_type": "display_data"
    }
   ],
   "source": [
    "pulsar_recipe <- recipe(target_class ~., data = pulsar_mean) %>% \n",
    "    step_scale(all_predictors()) %>% \n",
    "    step_center(all_predictors()) \n",
    "pulsar_recipe"
   ]
  },
  {
   "cell_type": "code",
   "execution_count": 10,
   "metadata": {},
   "outputs": [
    {
     "data": {
      "text/plain": [
       "K-Nearest Neighbor Model Specification (classification)\n",
       "\n",
       "Main Arguments:\n",
       "  neighbors = tune()\n",
       "  weight_func = rectangular\n",
       "\n",
       "Computational engine: kknn \n"
      ]
     },
     "metadata": {},
     "output_type": "display_data"
    }
   ],
   "source": [
    "knn_spec <- nearest_neighbor(weight_func = \"rectangular\", neighbors = tune()) %>% #weight_func = rectangular allows each neighbor to have 1 vote\n",
    "    set_engine(\"kknn\") %>%\n",
    "    set_mode(\"classification\")\n",
    "knn_spec #Creating a model specification for K nearest neighbors"
   ]
  },
  {
   "cell_type": "code",
   "execution_count": 11,
   "metadata": {},
   "outputs": [],
   "source": [
    "k_vals <- tibble(neighbors = seq(from = 1, to = 20))"
   ]
  },
  {
   "cell_type": "code",
   "execution_count": 12,
   "metadata": {},
   "outputs": [],
   "source": [
    "pulsar_vfold <- vfold_cv(pulsar_mean, v = 5, strata = target_class)\n",
    " #5 or 10 usually. Higher fold = lower standard error = more computation = more time to run computer"
   ]
  },
  {
   "cell_type": "code",
   "execution_count": 14,
   "metadata": {},
   "outputs": [],
   "source": [
    "knn_results <- workflow() %>% \n",
    "add_recipe(pulsar_recipe) %>% \n",
    "add_model(knn_spec) %>% \n",
    "tune_grid(resamples = pulsar_vfold, grid = k_vals) %>% \n",
    "collect_metrics()"
   ]
  },
  {
   "cell_type": "code",
   "execution_count": 15,
   "metadata": {},
   "outputs": [
    {
     "data": {
      "text/html": [
       "<table>\n",
       "<caption>A tibble: 20 × 7</caption>\n",
       "<thead>\n",
       "\t<tr><th scope=col>neighbors</th><th scope=col>.metric</th><th scope=col>.estimator</th><th scope=col>mean</th><th scope=col>n</th><th scope=col>std_err</th><th scope=col>.config</th></tr>\n",
       "\t<tr><th scope=col>&lt;int&gt;</th><th scope=col>&lt;chr&gt;</th><th scope=col>&lt;chr&gt;</th><th scope=col>&lt;dbl&gt;</th><th scope=col>&lt;int&gt;</th><th scope=col>&lt;dbl&gt;</th><th scope=col>&lt;chr&gt;</th></tr>\n",
       "</thead>\n",
       "<tbody>\n",
       "\t<tr><td> 1</td><td>accuracy</td><td>binary</td><td>0.9567898</td><td>5</td><td>0.002389627</td><td>Model01</td></tr>\n",
       "\t<tr><td> 2</td><td>accuracy</td><td>binary</td><td>0.9567898</td><td>5</td><td>0.002389627</td><td>Model02</td></tr>\n",
       "\t<tr><td> 3</td><td>accuracy</td><td>binary</td><td>0.9670067</td><td>5</td><td>0.002130481</td><td>Model03</td></tr>\n",
       "\t<tr><td> 4</td><td>accuracy</td><td>binary</td><td>0.9670067</td><td>5</td><td>0.002130481</td><td>Model04</td></tr>\n",
       "\t<tr><td> 5</td><td>accuracy</td><td>binary</td><td>0.9699868</td><td>5</td><td>0.001586046</td><td>Model05</td></tr>\n",
       "\t<tr><td> 6</td><td>accuracy</td><td>binary</td><td>0.9699868</td><td>5</td><td>0.001586046</td><td>Model06</td></tr>\n",
       "\t<tr><td> 7</td><td>accuracy</td><td>binary</td><td>0.9703058</td><td>5</td><td>0.001856421</td><td>Model07</td></tr>\n",
       "\t<tr><td> 8</td><td>accuracy</td><td>binary</td><td>0.9703058</td><td>5</td><td>0.001856421</td><td>Model08</td></tr>\n",
       "\t<tr><td> 9</td><td>accuracy</td><td>binary</td><td>0.9696673</td><td>5</td><td>0.001743055</td><td>Model09</td></tr>\n",
       "\t<tr><td>10</td><td>accuracy</td><td>binary</td><td>0.9696673</td><td>5</td><td>0.001743055</td><td>Model10</td></tr>\n",
       "\t<tr><td>11</td><td>accuracy</td><td>binary</td><td>0.9701993</td><td>5</td><td>0.002097380</td><td>Model11</td></tr>\n",
       "\t<tr><td>12</td><td>accuracy</td><td>binary</td><td>0.9701993</td><td>5</td><td>0.002097380</td><td>Model12</td></tr>\n",
       "\t<tr><td>13</td><td>accuracy</td><td>binary</td><td>0.9703058</td><td>5</td><td>0.001960433</td><td>Model13</td></tr>\n",
       "\t<tr><td>14</td><td>accuracy</td><td>binary</td><td>0.9703058</td><td>5</td><td>0.001960433</td><td>Model14</td></tr>\n",
       "\t<tr><td>15</td><td>accuracy</td><td>binary</td><td>0.9713703</td><td>5</td><td>0.001443924</td><td>Model15</td></tr>\n",
       "\t<tr><td>16</td><td>accuracy</td><td>binary</td><td>0.9713703</td><td>5</td><td>0.001443924</td><td>Model16</td></tr>\n",
       "\t<tr><td>17</td><td>accuracy</td><td>binary</td><td>0.9713704</td><td>5</td><td>0.001310019</td><td>Model17</td></tr>\n",
       "\t<tr><td>18</td><td>accuracy</td><td>binary</td><td>0.9713704</td><td>5</td><td>0.001310019</td><td>Model18</td></tr>\n",
       "\t<tr><td>19</td><td>accuracy</td><td>binary</td><td>0.9716896</td><td>5</td><td>0.001557218</td><td>Model19</td></tr>\n",
       "\t<tr><td>20</td><td>accuracy</td><td>binary</td><td>0.9716896</td><td>5</td><td>0.001557218</td><td>Model20</td></tr>\n",
       "</tbody>\n",
       "</table>\n"
      ],
      "text/latex": [
       "A tibble: 20 × 7\n",
       "\\begin{tabular}{lllllll}\n",
       " neighbors & .metric & .estimator & mean & n & std\\_err & .config\\\\\n",
       " <int> & <chr> & <chr> & <dbl> & <int> & <dbl> & <chr>\\\\\n",
       "\\hline\n",
       "\t  1 & accuracy & binary & 0.9567898 & 5 & 0.002389627 & Model01\\\\\n",
       "\t  2 & accuracy & binary & 0.9567898 & 5 & 0.002389627 & Model02\\\\\n",
       "\t  3 & accuracy & binary & 0.9670067 & 5 & 0.002130481 & Model03\\\\\n",
       "\t  4 & accuracy & binary & 0.9670067 & 5 & 0.002130481 & Model04\\\\\n",
       "\t  5 & accuracy & binary & 0.9699868 & 5 & 0.001586046 & Model05\\\\\n",
       "\t  6 & accuracy & binary & 0.9699868 & 5 & 0.001586046 & Model06\\\\\n",
       "\t  7 & accuracy & binary & 0.9703058 & 5 & 0.001856421 & Model07\\\\\n",
       "\t  8 & accuracy & binary & 0.9703058 & 5 & 0.001856421 & Model08\\\\\n",
       "\t  9 & accuracy & binary & 0.9696673 & 5 & 0.001743055 & Model09\\\\\n",
       "\t 10 & accuracy & binary & 0.9696673 & 5 & 0.001743055 & Model10\\\\\n",
       "\t 11 & accuracy & binary & 0.9701993 & 5 & 0.002097380 & Model11\\\\\n",
       "\t 12 & accuracy & binary & 0.9701993 & 5 & 0.002097380 & Model12\\\\\n",
       "\t 13 & accuracy & binary & 0.9703058 & 5 & 0.001960433 & Model13\\\\\n",
       "\t 14 & accuracy & binary & 0.9703058 & 5 & 0.001960433 & Model14\\\\\n",
       "\t 15 & accuracy & binary & 0.9713703 & 5 & 0.001443924 & Model15\\\\\n",
       "\t 16 & accuracy & binary & 0.9713703 & 5 & 0.001443924 & Model16\\\\\n",
       "\t 17 & accuracy & binary & 0.9713704 & 5 & 0.001310019 & Model17\\\\\n",
       "\t 18 & accuracy & binary & 0.9713704 & 5 & 0.001310019 & Model18\\\\\n",
       "\t 19 & accuracy & binary & 0.9716896 & 5 & 0.001557218 & Model19\\\\\n",
       "\t 20 & accuracy & binary & 0.9716896 & 5 & 0.001557218 & Model20\\\\\n",
       "\\end{tabular}\n"
      ],
      "text/markdown": [
       "\n",
       "A tibble: 20 × 7\n",
       "\n",
       "| neighbors &lt;int&gt; | .metric &lt;chr&gt; | .estimator &lt;chr&gt; | mean &lt;dbl&gt; | n &lt;int&gt; | std_err &lt;dbl&gt; | .config &lt;chr&gt; |\n",
       "|---|---|---|---|---|---|---|\n",
       "|  1 | accuracy | binary | 0.9567898 | 5 | 0.002389627 | Model01 |\n",
       "|  2 | accuracy | binary | 0.9567898 | 5 | 0.002389627 | Model02 |\n",
       "|  3 | accuracy | binary | 0.9670067 | 5 | 0.002130481 | Model03 |\n",
       "|  4 | accuracy | binary | 0.9670067 | 5 | 0.002130481 | Model04 |\n",
       "|  5 | accuracy | binary | 0.9699868 | 5 | 0.001586046 | Model05 |\n",
       "|  6 | accuracy | binary | 0.9699868 | 5 | 0.001586046 | Model06 |\n",
       "|  7 | accuracy | binary | 0.9703058 | 5 | 0.001856421 | Model07 |\n",
       "|  8 | accuracy | binary | 0.9703058 | 5 | 0.001856421 | Model08 |\n",
       "|  9 | accuracy | binary | 0.9696673 | 5 | 0.001743055 | Model09 |\n",
       "| 10 | accuracy | binary | 0.9696673 | 5 | 0.001743055 | Model10 |\n",
       "| 11 | accuracy | binary | 0.9701993 | 5 | 0.002097380 | Model11 |\n",
       "| 12 | accuracy | binary | 0.9701993 | 5 | 0.002097380 | Model12 |\n",
       "| 13 | accuracy | binary | 0.9703058 | 5 | 0.001960433 | Model13 |\n",
       "| 14 | accuracy | binary | 0.9703058 | 5 | 0.001960433 | Model14 |\n",
       "| 15 | accuracy | binary | 0.9713703 | 5 | 0.001443924 | Model15 |\n",
       "| 16 | accuracy | binary | 0.9713703 | 5 | 0.001443924 | Model16 |\n",
       "| 17 | accuracy | binary | 0.9713704 | 5 | 0.001310019 | Model17 |\n",
       "| 18 | accuracy | binary | 0.9713704 | 5 | 0.001310019 | Model18 |\n",
       "| 19 | accuracy | binary | 0.9716896 | 5 | 0.001557218 | Model19 |\n",
       "| 20 | accuracy | binary | 0.9716896 | 5 | 0.001557218 | Model20 |\n",
       "\n"
      ],
      "text/plain": [
       "   neighbors .metric  .estimator mean      n std_err     .config\n",
       "1   1        accuracy binary     0.9567898 5 0.002389627 Model01\n",
       "2   2        accuracy binary     0.9567898 5 0.002389627 Model02\n",
       "3   3        accuracy binary     0.9670067 5 0.002130481 Model03\n",
       "4   4        accuracy binary     0.9670067 5 0.002130481 Model04\n",
       "5   5        accuracy binary     0.9699868 5 0.001586046 Model05\n",
       "6   6        accuracy binary     0.9699868 5 0.001586046 Model06\n",
       "7   7        accuracy binary     0.9703058 5 0.001856421 Model07\n",
       "8   8        accuracy binary     0.9703058 5 0.001856421 Model08\n",
       "9   9        accuracy binary     0.9696673 5 0.001743055 Model09\n",
       "10 10        accuracy binary     0.9696673 5 0.001743055 Model10\n",
       "11 11        accuracy binary     0.9701993 5 0.002097380 Model11\n",
       "12 12        accuracy binary     0.9701993 5 0.002097380 Model12\n",
       "13 13        accuracy binary     0.9703058 5 0.001960433 Model13\n",
       "14 14        accuracy binary     0.9703058 5 0.001960433 Model14\n",
       "15 15        accuracy binary     0.9713703 5 0.001443924 Model15\n",
       "16 16        accuracy binary     0.9713703 5 0.001443924 Model16\n",
       "17 17        accuracy binary     0.9713704 5 0.001310019 Model17\n",
       "18 18        accuracy binary     0.9713704 5 0.001310019 Model18\n",
       "19 19        accuracy binary     0.9716896 5 0.001557218 Model19\n",
       "20 20        accuracy binary     0.9716896 5 0.001557218 Model20"
      ]
     },
     "metadata": {},
     "output_type": "display_data"
    }
   ],
   "source": [
    "accuracies <- knn_results %>% \n",
    "filter(.metric == \"accuracy\")\n",
    "accuracies"
   ]
  },
  {
   "cell_type": "code",
   "execution_count": 16,
   "metadata": {},
   "outputs": [
    {
     "data": {
      "image/png": "[encoded data removed]",
      "text/plain": [
       "plot without title"
      ]
     },
     "metadata": {
      "image/png": {
       "height": 420,
       "width": 420
      }
     },
     "output_type": "display_data"
    }
   ],
   "source": [
    "accuracy_vs_k <- ggplot(accuracies, aes(x = neighbors, y = mean)) +\n",
    "geom_point() +\n",
    "geom_line() + \n",
    "labs(x = \"Neighbors\", y = \"Accuracy Estimate\")\n",
    "accuracy_vs_k"
   ]
  },
  {
   "cell_type": "markdown",
   "metadata": {},
   "source": [
    "We would like to choose K = 9, since we can observe from the graph that the accuracy is very high almost all the time, so in this case we choose a lower K value."
   ]
  },
  {
   "cell_type": "code",
   "execution_count": 17,
   "metadata": {},
   "outputs": [
    {
     "data": {
      "text/plain": [
       "K-Nearest Neighbor Model Specification (classification)\n",
       "\n",
       "Main Arguments:\n",
       "  neighbors = 9\n",
       "  weight_func = rectangular\n",
       "\n",
       "Computational engine: kknn \n"
      ]
     },
     "metadata": {},
     "output_type": "display_data"
    }
   ],
   "source": [
    "knn_best_spec <- nearest_neighbor(weight_func = \"rectangular\", neighbors = 9) %>% #weight_func = rectangular allows each neighbor to have 1 vote\n",
    "    set_engine(\"kknn\") %>%\n",
    "    set_mode(\"classification\")\n",
    "knn_best_spec"
   ]
  },
  {
   "cell_type": "code",
   "execution_count": 18,
   "metadata": {},
   "outputs": [
    {
     "data": {
      "text/plain": [
       "══ Workflow [trained] ══════════════════════════════════════════════════════════\n",
       "\u001b[3mPreprocessor:\u001b[23m Recipe\n",
       "\u001b[3mModel:\u001b[23m nearest_neighbor()\n",
       "\n",
       "── Preprocessor ────────────────────────────────────────────────────────────────\n",
       "2 Recipe Steps\n",
       "\n",
       "● step_scale()\n",
       "● step_center()\n",
       "\n",
       "── Model ───────────────────────────────────────────────────────────────────────\n",
       "\n",
       "Call:\n",
       "kknn::train.kknn(formula = ..y ~ ., data = data, ks = ~9, kernel = ~\"rectangular\")\n",
       "\n",
       "Type of response variable: nominal\n",
       "Minimal misclassification: 0.02969349\n",
       "Best kernel: rectangular\n",
       "Best k: 9"
      ]
     },
     "metadata": {},
     "output_type": "display_data"
    }
   ],
   "source": [
    "knn_best_fit <- workflow() %>% \n",
    "    add_recipe(pulsar_recipe) %>% \n",
    "    add_model(knn_best_spec) %>% \n",
    "    fit(data = pulsar_training)\n",
    "knn_best_fit"
   ]
  },
  {
   "cell_type": "code",
   "execution_count": 19,
   "metadata": {},
   "outputs": [],
   "source": [
    "pulsar_test_predictions <- predict(knn_best_fit, pulsar_testing) %>% \n",
    "    bind_cols(pulsar_testing)"
   ]
  },
  {
   "cell_type": "code",
   "execution_count": 20,
   "metadata": {},
   "outputs": [
    {
     "data": {
      "text/html": [
       "<table>\n",
       "<caption>A tibble: 1 × 3</caption>\n",
       "<thead>\n",
       "\t<tr><th scope=col>.metric</th><th scope=col>.estimator</th><th scope=col>.estimate</th></tr>\n",
       "\t<tr><th scope=col>&lt;chr&gt;</th><th scope=col>&lt;chr&gt;</th><th scope=col>&lt;dbl&gt;</th></tr>\n",
       "</thead>\n",
       "<tbody>\n",
       "\t<tr><td>accuracy</td><td>binary</td><td>0.9731801</td></tr>\n",
       "</tbody>\n",
       "</table>\n"
      ],
      "text/latex": [
       "A tibble: 1 × 3\n",
       "\\begin{tabular}{lll}\n",
       " .metric & .estimator & .estimate\\\\\n",
       " <chr> & <chr> & <dbl>\\\\\n",
       "\\hline\n",
       "\t accuracy & binary & 0.9731801\\\\\n",
       "\\end{tabular}\n"
      ],
      "text/markdown": [
       "\n",
       "A tibble: 1 × 3\n",
       "\n",
       "| .metric &lt;chr&gt; | .estimator &lt;chr&gt; | .estimate &lt;dbl&gt; |\n",
       "|---|---|---|\n",
       "| accuracy | binary | 0.9731801 |\n",
       "\n"
      ],
      "text/plain": [
       "  .metric  .estimator .estimate\n",
       "1 accuracy binary     0.9731801"
      ]
     },
     "metadata": {},
     "output_type": "display_data"
    }
   ],
   "source": [
    "pulsar_metrics <- pulsar_test_predictions %>% \n",
    "    metrics(truth = target_class, estimate = .pred_class) %>% \n",
    "    filter(.metric == \"accuracy\") \n",
    "pulsar_metrics "
   ]
  },
  {
   "cell_type": "code",
   "execution_count": 21,
   "metadata": {},
   "outputs": [
    {
     "data": {
      "text/plain": [
       "          Truth\n",
       "Prediction    0    1\n",
       "         0 2816   63\n",
       "         1   21  232"
      ]
     },
     "metadata": {},
     "output_type": "display_data"
    }
   ],
   "source": [
    "pulsar_conf_mat <- pulsar_test_predictions %>% \n",
    "    conf_mat(truth = target_class, estimate = .pred_class) \n",
    "pulsar_conf_mat"
   ]
  },
  {
   "cell_type": "markdown",
   "metadata": {},
   "source": [
    "Next, we use sd_profile and sd_dmsr to get the accuracy."
   ]
  },
  {
   "cell_type": "code",
   "execution_count": 22,
   "metadata": {},
   "outputs": [
    {
     "data": {
      "text/plain": [
       "K-Nearest Neighbor Model Specification (classification)\n",
       "\n",
       "Main Arguments:\n",
       "  neighbors = tune()\n",
       "  weight_func = rectangular\n",
       "\n",
       "Computational engine: kknn \n"
      ]
     },
     "metadata": {},
     "output_type": "display_data"
    }
   ],
   "source": [
    "pulsar_sd <- pulsar_training %>% \n",
    "    select(target_class, sd_profile, sd_dmsnr) %>% \n",
    "    filter(!is.na(sd_profile)) %>% \n",
    "    filter(!is.na(sd_dmsnr))\n",
    "\n",
    "pulsar_recipe_sd <- recipe(target_class ~., data = pulsar_sd) %>% \n",
    "    step_scale(all_predictors()) %>% \n",
    "    step_center(all_predictors()) \n",
    "\n",
    "pulsar_vfold_sd <- vfold_cv(pulsar_sd, v = 5, strata = target_class)\n",
    "k_vals_sd <- tibble(neighbors = seq(from = 1, to = 20))\n",
    "knn_spec_sd <- nearest_neighbor(weight_func = \"rectangular\", neighbors = tune()) %>% #weight_func = rectangular allows each neighbor to have 1 vote\n",
    "    set_engine(\"kknn\") %>%\n",
    "    set_mode(\"classification\")\n",
    "knn_spec_sd\n",
    "\n"
   ]
  },
  {
   "cell_type": "code",
   "execution_count": 23,
   "metadata": {},
   "outputs": [
    {
     "data": {
      "image/png": "[encoded data removed]",
      "text/plain": [
       "plot without title"
      ]
     },
     "metadata": {
      "image/png": {
       "height": 420,
       "width": 420
      }
     },
     "output_type": "display_data"
    }
   ],
   "source": [
    "knn_results_sd <- workflow() %>% \n",
    "add_recipe(pulsar_recipe_sd) %>% \n",
    "add_model(knn_spec_sd) %>% \n",
    "tune_grid(resamples = pulsar_vfold_sd, grid = k_vals_sd) %>% \n",
    "collect_metrics()\n",
    "\n",
    "accuracies_sd <- knn_results_sd %>% \n",
    "filter(.metric == \"accuracy\")\n",
    "\n",
    "accuracy_vs_k_sd <- ggplot(accuracies_sd, aes(x = neighbors, y = mean)) +\n",
    "geom_point() +\n",
    "geom_line() + \n",
    "labs(x = \"Neighbors\", y = \"Accuracy Estimate\")\n",
    "accuracy_vs_k_sd"
   ]
  },
  {
   "cell_type": "markdown",
   "metadata": {},
   "source": [
    "For this accuracy, we choose K = 10."
   ]
  },
  {
   "cell_type": "code",
   "execution_count": 24,
   "metadata": {},
   "outputs": [
    {
     "data": {
      "text/plain": [
       "K-Nearest Neighbor Model Specification (classification)\n",
       "\n",
       "Main Arguments:\n",
       "  neighbors = 10\n",
       "  weight_func = rectangular\n",
       "\n",
       "Computational engine: kknn \n"
      ]
     },
     "metadata": {},
     "output_type": "display_data"
    }
   ],
   "source": [
    "knn_best_spec_sd <- nearest_neighbor(weight_func = \"rectangular\", neighbors = 10) %>% #weight_func = rectangular allows each neighbor to have 1 vote\n",
    "    set_engine(\"kknn\") %>%\n",
    "    set_mode(\"classification\")\n",
    "knn_best_spec_sd"
   ]
  },
  {
   "cell_type": "code",
   "execution_count": 25,
   "metadata": {},
   "outputs": [
    {
     "data": {
      "text/plain": [
       "══ Workflow [trained] ══════════════════════════════════════════════════════════\n",
       "\u001b[3mPreprocessor:\u001b[23m Recipe\n",
       "\u001b[3mModel:\u001b[23m nearest_neighbor()\n",
       "\n",
       "── Preprocessor ────────────────────────────────────────────────────────────────\n",
       "2 Recipe Steps\n",
       "\n",
       "● step_scale()\n",
       "● step_center()\n",
       "\n",
       "── Model ───────────────────────────────────────────────────────────────────────\n",
       "\n",
       "Call:\n",
       "kknn::train.kknn(formula = ..y ~ ., data = data, ks = ~10, kernel = ~\"rectangular\")\n",
       "\n",
       "Type of response variable: nominal\n",
       "Minimal misclassification: 0.04485828\n",
       "Best kernel: rectangular\n",
       "Best k: 10"
      ]
     },
     "metadata": {},
     "output_type": "display_data"
    }
   ],
   "source": [
    "knn_best_fit_sd <- workflow() %>% \n",
    "    add_recipe(pulsar_recipe_sd) %>% \n",
    "    add_model(knn_best_spec_sd) %>% \n",
    "    fit(data = pulsar_training)\n",
    "knn_best_fit_sd"
   ]
  },
  {
   "cell_type": "code",
   "execution_count": 26,
   "metadata": {},
   "outputs": [],
   "source": [
    "pulsar_sd_test <- pulsar_testing %>% \n",
    "    select(target_class, sd_profile, sd_dmsnr) %>% \n",
    "    filter(!is.na(sd_profile)) %>% \n",
    "    filter(!is.na(sd_dmsnr))"
   ]
  },
  {
   "cell_type": "code",
   "execution_count": 27,
   "metadata": {},
   "outputs": [],
   "source": [
    "pulsar_test_predictions_sd <- predict(knn_best_fit_sd, pulsar_sd_test) %>% \n",
    "    bind_cols(pulsar_sd_test)"
   ]
  },
  {
   "cell_type": "code",
   "execution_count": 28,
   "metadata": {},
   "outputs": [
    {
     "data": {
      "text/plain": [
       "          Truth\n",
       "Prediction    0    1\n",
       "         0 2515  101\n",
       "         1   32  164"
      ]
     },
     "metadata": {},
     "output_type": "display_data"
    }
   ],
   "source": [
    "pulsar_metrics <- pulsar_test_predictions_sd %>% \n",
    "    metrics(truth = target_class, estimate = .pred_class) %>% \n",
    "    filter(.metric == \"accuracy\") \n",
    "\n",
    "pulsar_conf_mat_sd <- pulsar_test_predictions_sd %>% \n",
    "    conf_mat(truth = target_class, estimate = .pred_class) \n",
    "pulsar_conf_mat_sd"
   ]
  },
  {
   "cell_type": "markdown",
   "metadata": {},
   "source": [
    "Next, we use kurtosis_profile and kurtosis_dmsnr to get the accuracy."
   ]
  },
  {
   "cell_type": "code",
   "execution_count": 29,
   "metadata": {},
   "outputs": [
    {
     "data": {
      "text/plain": [
       "K-Nearest Neighbor Model Specification (classification)\n",
       "\n",
       "Main Arguments:\n",
       "  neighbors = tune()\n",
       "  weight_func = rectangular\n",
       "\n",
       "Computational engine: kknn \n"
      ]
     },
     "metadata": {},
     "output_type": "display_data"
    }
   ],
   "source": [
    "pulsar_kurtosis <- pulsar_training %>% \n",
    "    select(target_class, kurtosis_profile, kurtosis_dmsnr) %>% \n",
    "    filter(!is.na(kurtosis_profile)) %>% \n",
    "    filter(!is.na(kurtosis_dmsnr))\n",
    "\n",
    "pulsar_recipe_kurtosis <- recipe(target_class ~., data = pulsar_kurtosis) %>% \n",
    "    step_scale(all_predictors()) %>% \n",
    "    step_center(all_predictors()) \n",
    "\n",
    "pulsar_vfold_kurtosis <- vfold_cv(pulsar_kurtosis, v = 5, strata = target_class)\n",
    "k_vals_kurtosis <- tibble(neighbors = seq(from = 1, to = 50))\n",
    "knn_spec_kurtosis <- nearest_neighbor(weight_func = \"rectangular\", neighbors = tune()) %>% #weight_func = rectangular allows each neighbor to have 1 vote\n",
    "    set_engine(\"kknn\") %>%\n",
    "    set_mode(\"classification\")\n",
    "knn_spec_kurtosis"
   ]
  },
  {
   "cell_type": "code",
   "execution_count": 30,
   "metadata": {},
   "outputs": [
    {
     "data": {
      "image/png": "[encoded data removed]",
      "text/plain": [
       "plot without title"
      ]
     },
     "metadata": {
      "image/png": {
       "height": 420,
       "width": 420
      }
     },
     "output_type": "display_data"
    }
   ],
   "source": [
    "knn_results_kurtosis <- workflow() %>% \n",
    "add_recipe(pulsar_recipe_kurtosis) %>% \n",
    "add_model(knn_spec_kurtosis) %>% \n",
    "tune_grid(resamples = pulsar_vfold_kurtosis, grid = k_vals_kurtosis) %>% \n",
    "collect_metrics()\n",
    "\n",
    "accuracies_kurtosis <- knn_results_kurtosis %>% \n",
    "filter(.metric == \"accuracy\")\n",
    "\n",
    "accuracy_vs_k_kurtosis <- ggplot(accuracies_kurtosis, aes(x = neighbors, y = mean)) +\n",
    "geom_point() +\n",
    "geom_line() + \n",
    "labs(x = \"Neighbors\", y = \"Accuracy Estimate\")\n",
    "accuracy_vs_k_kurtosis"
   ]
  },
  {
   "cell_type": "code",
   "execution_count": 31,
   "metadata": {},
   "outputs": [],
   "source": [
    "knn_best_spec_kurtosis <- nearest_neighbor(weight_func = \"rectangular\", neighbors = 28) %>% #weight_func = rectangular allows each neighbor to have 1 vote\n",
    "    set_engine(\"kknn\") %>%\n",
    "    set_mode(\"classification\")\n",
    "knn_best_fit_kurtosis <- workflow() %>% \n",
    "    add_recipe(pulsar_recipe_kurtosis) %>% \n",
    "    add_model(knn_best_spec_kurtosis) %>% \n",
    "    fit(data = pulsar_training)"
   ]
  },
  {
   "cell_type": "code",
   "execution_count": 32,
   "metadata": {},
   "outputs": [
    {
     "data": {
      "text/plain": [
       "          Truth\n",
       "Prediction    0    1\n",
       "         0 2405   37\n",
       "         1   20  219"
      ]
     },
     "metadata": {},
     "output_type": "display_data"
    }
   ],
   "source": [
    "pulsar_kurtosis_test <- pulsar_testing %>% \n",
    "    select(target_class, kurtosis_profile, kurtosis_dmsnr) %>% \n",
    "    filter(!is.na(kurtosis_profile)) %>% \n",
    "    filter(!is.na(kurtosis_dmsnr))\n",
    "\n",
    "pulsar_test_predictions_kurtosis <- predict(knn_best_fit_kurtosis, pulsar_kurtosis_test) %>% \n",
    "    bind_cols(pulsar_kurtosis_test)\n",
    "\n",
    "pulsar_metrics_kurtosis <- pulsar_test_predictions_kurtosis %>% \n",
    "    metrics(truth = target_class, estimate = .pred_class) %>% \n",
    "    filter(.metric == \"accuracy\") \n",
    "\n",
    "pulsar_conf_mat_kurtosis <- pulsar_test_predictions_kurtosis %>% \n",
    "    conf_mat(truth = target_class, estimate = .pred_class) \n",
    "pulsar_conf_mat_kurtosis"
   ]
  },
  {
   "cell_type": "markdown",
   "metadata": {},
   "source": [
    "Next, we use skew_profile and skew_dmsnr to get the accuracy."
   ]
  },
  {
   "cell_type": "code",
   "execution_count": 33,
   "metadata": {},
   "outputs": [
    {
     "data": {
      "image/png": "[encoded data removed]",
      "text/plain": [
       "plot without title"
      ]
     },
     "metadata": {
      "image/png": {
       "height": 420,
       "width": 420
      }
     },
     "output_type": "display_data"
    }
   ],
   "source": [
    "pulsar_skew <- pulsar_training %>% \n",
    "    select(target_class, skew_profile, skew_dmsnr) %>% \n",
    "    filter(!is.na(skew_profile)) %>% \n",
    "    filter(!is.na(skew_dmsnr))\n",
    "\n",
    "pulsar_recipe_skew <- recipe(target_class ~., data = pulsar_skew) %>% \n",
    "    step_scale(all_predictors()) %>% \n",
    "    step_center(all_predictors()) \n",
    "\n",
    "pulsar_vfold_skew <- vfold_cv(pulsar_skew, v = 5, strata = target_class)\n",
    "k_vals_skew <- tibble(neighbors = seq(from = 1, to = 50))\n",
    "knn_spec_skew <- nearest_neighbor(weight_func = \"rectangular\", neighbors = tune()) %>% #weight_func = rectangular allows each neighbor to have 1 vote\n",
    "    set_engine(\"kknn\") %>%\n",
    "    set_mode(\"classification\")\n",
    "knn_results_skew <- workflow() %>% \n",
    "add_recipe(pulsar_recipe_skew) %>% \n",
    "add_model(knn_spec_skew) %>% \n",
    "tune_grid(resamples = pulsar_vfold_skew, grid = k_vals_skew) %>% \n",
    "collect_metrics()\n",
    "\n",
    "accuracies_skew <- knn_results_skew %>% \n",
    "filter(.metric == \"accuracy\")\n",
    "\n",
    "accuracy_vs_k_skew <- ggplot(accuracies_skew, aes(x = neighbors, y = mean)) +\n",
    "geom_point() +\n",
    "geom_line() + \n",
    "labs(x = \"Neighbors\", y = \"Accuracy Estimate\")\n",
    "accuracy_vs_k_skew"
   ]
  },
  {
   "cell_type": "code",
   "execution_count": 34,
   "metadata": {},
   "outputs": [
    {
     "data": {
      "text/plain": [
       "          Truth\n",
       "Prediction    0    1\n",
       "         0 2664   58\n",
       "         1   22  221"
      ]
     },
     "metadata": {},
     "output_type": "display_data"
    }
   ],
   "source": [
    "knn_best_spec_skew <- nearest_neighbor(weight_func = \"rectangular\", neighbors = 15) %>% #weight_func = rectangular allows each neighbor to have 1 vote\n",
    "    set_engine(\"kknn\") %>%\n",
    "    set_mode(\"classification\")\n",
    "knn_best_fit_skew <- workflow() %>% \n",
    "    add_recipe(pulsar_recipe_skew) %>% \n",
    "    add_model(knn_best_spec_skew) %>% \n",
    "    fit(data = pulsar_training)\n",
    "\n",
    "pulsar_skew_test <- pulsar_testing %>% \n",
    "    select(target_class, skew_profile, skew_dmsnr) %>% \n",
    "    filter(!is.na(skew_profile)) %>% \n",
    "    filter(!is.na(skew_dmsnr))\n",
    "\n",
    "pulsar_test_predictions_skew <- predict(knn_best_fit_skew, pulsar_skew_test) %>% \n",
    "    bind_cols(pulsar_skew_test)\n",
    "\n",
    "pulsar_metrics_skew <- pulsar_test_predictions_skew %>% \n",
    "    metrics(truth = target_class, estimate = .pred_class) %>% \n",
    "    filter(.metric == \"accuracy\") \n",
    "\n",
    "pulsar_conf_mat_skew <- pulsar_test_predictions_skew %>% \n",
    "    conf_mat(truth = target_class, estimate = .pred_class) \n",
    "pulsar_conf_mat_skew"
   ]
  },
  {
   "cell_type": "code",
   "execution_count": 35,
   "metadata": {},
   "outputs": [
    {
     "data": {
      "text/plain": [
       "          Truth\n",
       "Prediction    0    1\n",
       "         0 2816   63\n",
       "         1   21  232"
      ]
     },
     "metadata": {},
     "output_type": "display_data"
    },
    {
     "data": {
      "text/plain": [
       "          Truth\n",
       "Prediction    0    1\n",
       "         0 2515  101\n",
       "         1   32  164"
      ]
     },
     "metadata": {},
     "output_type": "display_data"
    },
    {
     "data": {
      "text/plain": [
       "          Truth\n",
       "Prediction    0    1\n",
       "         0 2405   37\n",
       "         1   20  219"
      ]
     },
     "metadata": {},
     "output_type": "display_data"
    },
    {
     "data": {
      "text/plain": [
       "          Truth\n",
       "Prediction    0    1\n",
       "         0 2664   58\n",
       "         1   22  221"
      ]
     },
     "metadata": {},
     "output_type": "display_data"
    }
   ],
   "source": [
    "pulsar_conf_mat\n",
    "pulsar_conf_mat_sd\n",
    "pulsar_conf_mat_kurtosis\n",
    "pulsar_conf_mat_skew\n"
   ]
  },
  {
   "cell_type": "code",
   "execution_count": null,
   "metadata": {},
   "outputs": [],
   "source": []
  }
 ],
 "metadata": {
  "kernelspec": {
   "display_name": "R",
   "language": "R",
   "name": "ir"
  },
  "language_info": {
   "codemirror_mode": "r",
   "file_extension": ".r",
   "mimetype": "text/x-r-source",
   "name": "R",
   "pygments_lexer": "r",
   "version": "4.0.0"
  }
 },
 "nbformat": 4,
 "nbformat_minor": 4
}
