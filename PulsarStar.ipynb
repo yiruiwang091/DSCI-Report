{
 "cells": [
  {
   "cell_type": "markdown",
   "metadata": {},
   "source": [
    "# Pulsar Star Prediction"
   ]
  },
  {
   "cell_type": "markdown",
   "metadata": {},
   "source": [
    "## Introduction"
   ]
  },
  {
   "cell_type": "markdown",
   "metadata": {},
   "source": [
    "**Pulsar** *(from **pulsa**ting **r**adio source)* or Pulsar Stars are highly magnetic, rotating, compact heavenly bodies often viewed as flickering “stars” from the earth's night sky. Pulsar stars belong to the family of neutron stars which emit beams of electromagnetic radiation from their poles. Due to its high degree of rotation, the radiation from its poles appears to be pulsating or flickering from the earth, hence its name.\n",
    "\n",
    "Pulsars are fantastic cosmic tools for scientists to study a wide range of phenomena. Scientists also use pulsars to study extreme states of matter, search for planets beyond Earth's solar system and measure cosmic distances[(Cofield, 2016.)](https://www.space.com/32661-pulsars.html). Pulsars also could help scientists find gravitational waves, which could point the way to energetic cosmic events like collisions between supermassive black holes.[(Buongiorno, C. ,2021)](https://astronomy.com/magazine/news/2021/10/neutron-stars-a-cosmic-gold-mine)"
   ]
  },
  {
   "cell_type": "markdown",
   "metadata": {},
   "source": [
    "![PulsarStarURL](https://media3.giphy.com/media/l3dj5M4YLaFww31V6/giphy.gif)"
   ]
  },
  {
   "cell_type": "markdown",
   "metadata": {},
   "source": [
    "Image 1: Pulsar star derives a pulsar profile [(NASA)](https://media3.giphy.com/media/l3dj5M4YLaFww31V6/giphy.gif)"
   ]
  },
  {
   "cell_type": "markdown",
   "metadata": {},
   "source": [
    "The above image represents how pulsars profiles are created. When pulsars rotate, their emission beam travels through the sky. Then, a detectable pattern of broadband radio emission produced when this beam crosses our line of sight. According to research, it can be seen that this pattern is repeated periodically when the pulsars spin rapidly [(Mohamed, 2018.)](sciencedirect.com/science/article/pii/S2314728817300776).\n",
    "\n",
    "We mainly detect pulsar stars by studying these detectable radio emissions received by telescopes. Often disturbance and random noise interfere and make it hard to detect. Through this project, we aim to produce a predictive classifier that will help us identify whether the received measurements are from pulsar stars or not. As we see this project relates to the binary classification problem."
   ]
  },
  {
   "cell_type": "markdown",
   "metadata": {},
   "source": [
    "#### Predictive Question"
   ]
  },
  {
   "cell_type": "markdown",
   "metadata": {},
   "source": [
    "Can we use measurements of integrated profile and DM-SNR reading from the telescope to predict if a given reading is from a pulsar star?"
   ]
  },
  {
   "cell_type": "markdown",
   "metadata": {},
   "source": [
    "#### Dataset and its attributes"
   ]
  },
  {
   "cell_type": "markdown",
   "metadata": {},
   "source": [
    "We will be using the [Predicting Pulsar Stars](https://www.kaggle.com/colearninglounge/predicting-pulsar-starintermediate) dataset which collected potential pulsar candidates during the High Time Resolution Universe Survey.\n",
    "Each signal is described by eight continuous variables, and a single class variable. The first four are simple statistics obtained from the integrated pulse profile and the remaining four variables are similarly obtained from the DM-SNR curve. These variables are:\n",
    "\n",
    "Mean of the integrated profile.\n",
    "\n",
    "Standard deviation of the integrated profile.\n",
    "\n",
    "Excess kurtosis of the integrated profile.\n",
    "\n",
    "Skewness of the integrated profile.\n",
    "\n",
    "Mean of the DM-SNR curve.\n",
    "\n",
    "Standard deviation of the DM-SNR curve.\n",
    "\n",
    "Excess kurtosis of the DM-SNR curve.\n",
    "\n",
    "Skewness of the DM-SNR curve.\n",
    "\n",
    "target_class *(0 if it is not a pulsar star and 1 if it is a pulsar star)*\n"
   ]
  },
  {
   "cell_type": "markdown",
   "metadata": {},
   "source": [
    "#### Variables of Intrest"
   ]
  },
  {
   "cell_type": "markdown",
   "metadata": {},
   "source": [
    "In this exploration, we will forecast if an observation belongs to pulsar stars or some random noise. As described by [R. J. Lyon et al.](https://doi.org/10.1093/mnras/stw656), [R. P. Eatough et al.](https://doi.org/10.1111/j.1365-2966.2010.17082.x), measures of integrated profile and DM-SNR both play an integral and essential part in assessing whether a given recording is a pulsar or not. Studying the center of the curves of both integrated profile and DM-SNR can help us categorize if a given observation belongs to a pulsar star or not. Thus in our exploration, we will be studying the center of the curves of the integrated profile and DM-SNR which in our case is given by their respective means."
   ]
  },
  {
   "cell_type": "markdown",
   "metadata": {},
   "source": [
    "## Methods and Results"
   ]
  },
  {
   "cell_type": "code",
   "execution_count": 2,
   "metadata": {},
   "outputs": [
    {
     "name": "stderr",
     "output_type": "stream",
     "text": [
      "── \u001b[1mAttaching packages\u001b[22m ─────────────────────────────────────── tidyverse 1.3.0 ──\n",
      "\n",
      "\u001b[32m✔\u001b[39m \u001b[34mggplot2\u001b[39m 3.3.2     \u001b[32m✔\u001b[39m \u001b[34mpurrr  \u001b[39m 0.3.4\n",
      "\u001b[32m✔\u001b[39m \u001b[34mtibble \u001b[39m 3.0.3     \u001b[32m✔\u001b[39m \u001b[34mdplyr  \u001b[39m 1.0.2\n",
      "\u001b[32m✔\u001b[39m \u001b[34mtidyr  \u001b[39m 1.1.2     \u001b[32m✔\u001b[39m \u001b[34mstringr\u001b[39m 1.4.0\n",
      "\u001b[32m✔\u001b[39m \u001b[34mreadr  \u001b[39m 1.3.1     \u001b[32m✔\u001b[39m \u001b[34mforcats\u001b[39m 0.5.0\n",
      "\n",
      "Warning message:\n",
      "“package ‘ggplot2’ was built under R version 4.0.1”\n",
      "Warning message:\n",
      "“package ‘tibble’ was built under R version 4.0.2”\n",
      "Warning message:\n",
      "“package ‘tidyr’ was built under R version 4.0.2”\n",
      "Warning message:\n",
      "“package ‘dplyr’ was built under R version 4.0.2”\n",
      "── \u001b[1mConflicts\u001b[22m ────────────────────────────────────────── tidyverse_conflicts() ──\n",
      "\u001b[31m✖\u001b[39m \u001b[34mdplyr\u001b[39m::\u001b[32mfilter()\u001b[39m masks \u001b[34mstats\u001b[39m::filter()\n",
      "\u001b[31m✖\u001b[39m \u001b[34mdplyr\u001b[39m::\u001b[32mlag()\u001b[39m    masks \u001b[34mstats\u001b[39m::lag()\n",
      "\n",
      "Warning message:\n",
      "“package ‘tidymodels’ was built under R version 4.0.2”\n",
      "── \u001b[1mAttaching packages\u001b[22m ────────────────────────────────────── tidymodels 0.1.1 ──\n",
      "\n",
      "\u001b[32m✔\u001b[39m \u001b[34mbroom    \u001b[39m 0.7.0      \u001b[32m✔\u001b[39m \u001b[34mrecipes  \u001b[39m 0.1.13\n",
      "\u001b[32m✔\u001b[39m \u001b[34mdials    \u001b[39m 0.0.9      \u001b[32m✔\u001b[39m \u001b[34mrsample  \u001b[39m 0.0.7 \n",
      "\u001b[32m✔\u001b[39m \u001b[34minfer    \u001b[39m 0.5.4      \u001b[32m✔\u001b[39m \u001b[34mtune     \u001b[39m 0.1.1 \n",
      "\u001b[32m✔\u001b[39m \u001b[34mmodeldata\u001b[39m 0.0.2      \u001b[32m✔\u001b[39m \u001b[34mworkflows\u001b[39m 0.2.0 \n",
      "\u001b[32m✔\u001b[39m \u001b[34mparsnip  \u001b[39m 0.1.3      \u001b[32m✔\u001b[39m \u001b[34myardstick\u001b[39m 0.0.7 \n",
      "\n",
      "Warning message:\n",
      "“package ‘broom’ was built under R version 4.0.2”\n",
      "Warning message:\n",
      "“package ‘dials’ was built under R version 4.0.2”\n",
      "Warning message:\n",
      "“package ‘infer’ was built under R version 4.0.3”\n",
      "Warning message:\n",
      "“package ‘modeldata’ was built under R version 4.0.1”\n",
      "Warning message:\n",
      "“package ‘parsnip’ was built under R version 4.0.2”\n",
      "Warning message:\n",
      "“package ‘recipes’ was built under R version 4.0.1”\n",
      "Warning message:\n",
      "“package ‘tune’ was built under R version 4.0.2”\n",
      "Warning message:\n",
      "“package ‘workflows’ was built under R version 4.0.2”\n",
      "Warning message:\n",
      "“package ‘yardstick’ was built under R version 4.0.2”\n",
      "── \u001b[1mConflicts\u001b[22m ───────────────────────────────────────── tidymodels_conflicts() ──\n",
      "\u001b[31m✖\u001b[39m \u001b[34mscales\u001b[39m::\u001b[32mdiscard()\u001b[39m masks \u001b[34mpurrr\u001b[39m::discard()\n",
      "\u001b[31m✖\u001b[39m \u001b[34mdplyr\u001b[39m::\u001b[32mfilter()\u001b[39m   masks \u001b[34mstats\u001b[39m::filter()\n",
      "\u001b[31m✖\u001b[39m \u001b[34mrecipes\u001b[39m::\u001b[32mfixed()\u001b[39m  masks \u001b[34mstringr\u001b[39m::fixed()\n",
      "\u001b[31m✖\u001b[39m \u001b[34mdplyr\u001b[39m::\u001b[32mlag()\u001b[39m      masks \u001b[34mstats\u001b[39m::lag()\n",
      "\u001b[31m✖\u001b[39m \u001b[34myardstick\u001b[39m::\u001b[32mspec()\u001b[39m masks \u001b[34mreadr\u001b[39m::spec()\n",
      "\u001b[31m✖\u001b[39m \u001b[34mrecipes\u001b[39m::\u001b[32mstep()\u001b[39m   masks \u001b[34mstats\u001b[39m::step()\n",
      "\n"
     ]
    }
   ],
   "source": [
    "# Initialize a pseudorandom number generator\n",
    "# Introduce the packages\n",
    "set.seed(4321)\n",
    "library(tidyverse)\n",
    "library(tidymodels)"
   ]
  },
  {
   "cell_type": "code",
   "execution_count": 3,
   "metadata": {},
   "outputs": [
    {
     "name": "stderr",
     "output_type": "stream",
     "text": [
      "Parsed with column specification:\n",
      "cols(\n",
      "  `Mean of the integrated profile` = \u001b[32mcol_double()\u001b[39m,\n",
      "  `Standard deviation of the integrated profile` = \u001b[32mcol_double()\u001b[39m,\n",
      "  `Excess kurtosis of the integrated profile` = \u001b[32mcol_double()\u001b[39m,\n",
      "  `Skewness of the integrated profile` = \u001b[32mcol_double()\u001b[39m,\n",
      "  `Mean of the DM-SNR curve` = \u001b[32mcol_double()\u001b[39m,\n",
      "  `Standard deviation of the DM-SNR curve` = \u001b[32mcol_double()\u001b[39m,\n",
      "  `Excess kurtosis of the DM-SNR curve` = \u001b[32mcol_double()\u001b[39m,\n",
      "  `Skewness of the DM-SNR curve` = \u001b[32mcol_double()\u001b[39m,\n",
      "  target_class = \u001b[32mcol_double()\u001b[39m\n",
      ")\n",
      "\n"
     ]
    }
   ],
   "source": [
    "# Read data from Internet\n",
    "url <- url <- \"https://raw.githubusercontent.com/Acha220/DSCI_Project_Proposal/main/pulsar_data_train.csv\"\n",
    "pulsar <- read_csv(url)"
   ]
  },
  {
   "cell_type": "code",
   "execution_count": 4,
   "metadata": {},
   "outputs": [
    {
     "data": {
      "text/html": [
       "<table>\n",
       "<caption>A tibble: 6 × 9</caption>\n",
       "<thead>\n",
       "\t<tr><th scope=col>Mean of the integrated profile</th><th scope=col>Standard deviation of the integrated profile</th><th scope=col>Excess kurtosis of the integrated profile</th><th scope=col>Skewness of the integrated profile</th><th scope=col>Mean of the DM-SNR curve</th><th scope=col>Standard deviation of the DM-SNR curve</th><th scope=col>Excess kurtosis of the DM-SNR curve</th><th scope=col>Skewness of the DM-SNR curve</th><th scope=col>target_class</th></tr>\n",
       "\t<tr><th scope=col>&lt;dbl&gt;</th><th scope=col>&lt;dbl&gt;</th><th scope=col>&lt;dbl&gt;</th><th scope=col>&lt;dbl&gt;</th><th scope=col>&lt;dbl&gt;</th><th scope=col>&lt;dbl&gt;</th><th scope=col>&lt;dbl&gt;</th><th scope=col>&lt;dbl&gt;</th><th scope=col>&lt;dbl&gt;</th></tr>\n",
       "</thead>\n",
       "<tbody>\n",
       "\t<tr><td>121.15625</td><td>48.37297</td><td> 0.3754847</td><td>-0.01316549</td><td> 3.168896</td><td>18.39937</td><td>7.449874</td><td> 65.159298</td><td>0</td></tr>\n",
       "\t<tr><td> 76.96875</td><td>36.17556</td><td> 0.7128979</td><td> 3.38871856</td><td> 2.399666</td><td>17.57100</td><td>9.414652</td><td>102.722975</td><td>0</td></tr>\n",
       "\t<tr><td>130.58594</td><td>53.22953</td><td> 0.1334083</td><td>-0.29724164</td><td> 2.743311</td><td>22.36255</td><td>8.508364</td><td> 74.031324</td><td>0</td></tr>\n",
       "\t<tr><td>156.39844</td><td>48.86594</td><td>-0.2159886</td><td>-0.17129365</td><td>17.471572</td><td>      NA</td><td>2.958066</td><td>  7.197842</td><td>0</td></tr>\n",
       "\t<tr><td> 84.80469</td><td>36.11766</td><td> 0.8250128</td><td> 3.27412537</td><td> 2.790134</td><td>20.61801</td><td>8.405008</td><td> 76.291128</td><td>0</td></tr>\n",
       "\t<tr><td>121.00781</td><td>47.17694</td><td> 0.2297081</td><td> 0.09133623</td><td> 2.036789</td><td>      NA</td><td>9.546051</td><td>112.131721</td><td>0</td></tr>\n",
       "</tbody>\n",
       "</table>\n"
      ],
      "text/latex": [
       "A tibble: 6 × 9\n",
       "\\begin{tabular}{lllllllll}\n",
       " Mean of the integrated profile & Standard deviation of the integrated profile & Excess kurtosis of the integrated profile & Skewness of the integrated profile & Mean of the DM-SNR curve & Standard deviation of the DM-SNR curve & Excess kurtosis of the DM-SNR curve & Skewness of the DM-SNR curve & target\\_class\\\\\n",
       " <dbl> & <dbl> & <dbl> & <dbl> & <dbl> & <dbl> & <dbl> & <dbl> & <dbl>\\\\\n",
       "\\hline\n",
       "\t 121.15625 & 48.37297 &  0.3754847 & -0.01316549 &  3.168896 & 18.39937 & 7.449874 &  65.159298 & 0\\\\\n",
       "\t  76.96875 & 36.17556 &  0.7128979 &  3.38871856 &  2.399666 & 17.57100 & 9.414652 & 102.722975 & 0\\\\\n",
       "\t 130.58594 & 53.22953 &  0.1334083 & -0.29724164 &  2.743311 & 22.36255 & 8.508364 &  74.031324 & 0\\\\\n",
       "\t 156.39844 & 48.86594 & -0.2159886 & -0.17129365 & 17.471572 &       NA & 2.958066 &   7.197842 & 0\\\\\n",
       "\t  84.80469 & 36.11766 &  0.8250128 &  3.27412537 &  2.790134 & 20.61801 & 8.405008 &  76.291128 & 0\\\\\n",
       "\t 121.00781 & 47.17694 &  0.2297081 &  0.09133623 &  2.036789 &       NA & 9.546051 & 112.131721 & 0\\\\\n",
       "\\end{tabular}\n"
      ],
      "text/markdown": [
       "\n",
       "A tibble: 6 × 9\n",
       "\n",
       "| Mean of the integrated profile &lt;dbl&gt; | Standard deviation of the integrated profile &lt;dbl&gt; | Excess kurtosis of the integrated profile &lt;dbl&gt; | Skewness of the integrated profile &lt;dbl&gt; | Mean of the DM-SNR curve &lt;dbl&gt; | Standard deviation of the DM-SNR curve &lt;dbl&gt; | Excess kurtosis of the DM-SNR curve &lt;dbl&gt; | Skewness of the DM-SNR curve &lt;dbl&gt; | target_class &lt;dbl&gt; |\n",
       "|---|---|---|---|---|---|---|---|---|\n",
       "| 121.15625 | 48.37297 |  0.3754847 | -0.01316549 |  3.168896 | 18.39937 | 7.449874 |  65.159298 | 0 |\n",
       "|  76.96875 | 36.17556 |  0.7128979 |  3.38871856 |  2.399666 | 17.57100 | 9.414652 | 102.722975 | 0 |\n",
       "| 130.58594 | 53.22953 |  0.1334083 | -0.29724164 |  2.743311 | 22.36255 | 8.508364 |  74.031324 | 0 |\n",
       "| 156.39844 | 48.86594 | -0.2159886 | -0.17129365 | 17.471572 |       NA | 2.958066 |   7.197842 | 0 |\n",
       "|  84.80469 | 36.11766 |  0.8250128 |  3.27412537 |  2.790134 | 20.61801 | 8.405008 |  76.291128 | 0 |\n",
       "| 121.00781 | 47.17694 |  0.2297081 |  0.09133623 |  2.036789 |       NA | 9.546051 | 112.131721 | 0 |\n",
       "\n"
      ],
      "text/plain": [
       "  Mean of the integrated profile Standard deviation of the integrated profile\n",
       "1 121.15625                      48.37297                                    \n",
       "2  76.96875                      36.17556                                    \n",
       "3 130.58594                      53.22953                                    \n",
       "4 156.39844                      48.86594                                    \n",
       "5  84.80469                      36.11766                                    \n",
       "6 121.00781                      47.17694                                    \n",
       "  Excess kurtosis of the integrated profile Skewness of the integrated profile\n",
       "1  0.3754847                                -0.01316549                       \n",
       "2  0.7128979                                 3.38871856                       \n",
       "3  0.1334083                                -0.29724164                       \n",
       "4 -0.2159886                                -0.17129365                       \n",
       "5  0.8250128                                 3.27412537                       \n",
       "6  0.2297081                                 0.09133623                       \n",
       "  Mean of the DM-SNR curve Standard deviation of the DM-SNR curve\n",
       "1  3.168896                18.39937                              \n",
       "2  2.399666                17.57100                              \n",
       "3  2.743311                22.36255                              \n",
       "4 17.471572                      NA                              \n",
       "5  2.790134                20.61801                              \n",
       "6  2.036789                      NA                              \n",
       "  Excess kurtosis of the DM-SNR curve Skewness of the DM-SNR curve target_class\n",
       "1 7.449874                             65.159298                   0           \n",
       "2 9.414652                            102.722975                   0           \n",
       "3 8.508364                             74.031324                   0           \n",
       "4 2.958066                              7.197842                   0           \n",
       "5 8.405008                             76.291128                   0           \n",
       "6 9.546051                            112.131721                   0           "
      ]
     },
     "metadata": {},
     "output_type": "display_data"
    }
   ],
   "source": [
    "# See what the first part of the data looks like.\n",
    "head(pulsar)"
   ]
  },
  {
   "cell_type": "code",
   "execution_count": 5,
   "metadata": {},
   "outputs": [],
   "source": [
    "# Rename columns\n",
    "colnames(pulsar) <- c(\n",
    "    \"mean_profile\", \n",
    "    \"sd_profile\", \n",
    "    \"kurtosis_profile\", \n",
    "    \"skew_profile\", \n",
    "    \"mean_dmsnr\", \n",
    "    \"sd_dmsnr\", \n",
    "    \"kurtosis_dmsnr\", \n",
    "    \"skew_dmsnr\", \n",
    "    \"target_class\"\n",
    ")"
   ]
  },
  {
   "cell_type": "code",
   "execution_count": 6,
   "metadata": {},
   "outputs": [],
   "source": [
    "# Convert numeric values into factor with numeric levels\n",
    "pulsar <- pulsar %>%\n",
    "mutate(target_class = as_factor(target_class))"
   ]
  },
  {
   "cell_type": "code",
   "execution_count": 7,
   "metadata": {},
   "outputs": [],
   "source": [
    "pulsar <- pulsar %>%\n",
    "select(mean_profile, mean_dmsnr, target_class)"
   ]
  },
  {
   "cell_type": "code",
   "execution_count": 8,
   "metadata": {},
   "outputs": [],
   "source": [
    "# Split data into training data set and testing data set.\n",
    "pulsar_split <- initial_split(pulsar, prop = 0.75, strata = target_class)\n",
    "pulsar_training <- training(pulsar_split)\n",
    "pulsar_testing <- testing(pulsar_split)"
   ]
  },
  {
   "cell_type": "code",
   "execution_count": 9,
   "metadata": {},
   "outputs": [
    {
     "name": "stdout",
     "output_type": "stream",
     "text": [
      "Rows: 9,396\n",
      "Columns: 3\n",
      "$ mean_profile \u001b[3m\u001b[90m<dbl>\u001b[39m\u001b[23m 121.15625, 76.96875, 130.58594, 84.80469, 121.00781, 79.…\n",
      "$ mean_dmsnr   \u001b[3m\u001b[90m<dbl>\u001b[39m\u001b[23m 3.1688963, 2.3996656, 2.7433110, 2.7901338, 2.0367893, 1…\n",
      "$ target_class \u001b[3m\u001b[90m<fct>\u001b[39m\u001b[23m 0, 0, 0, 0, 0, 0, 0, 0, 0, 0, 0, 0, 0, 0, 0, 0, 0, 0, 0,…\n"
     ]
    }
   ],
   "source": [
    "# See all of the columns\n",
    "glimpse(pulsar_training)"
   ]
  },
  {
   "cell_type": "code",
   "execution_count": 10,
   "metadata": {},
   "outputs": [
    {
     "name": "stderr",
     "output_type": "stream",
     "text": [
      "`summarise()` ungrouping output (override with `.groups` argument)\n",
      "\n"
     ]
    },
    {
     "data": {
      "text/html": [
       "<table>\n",
       "<caption>A tibble: 2 × 3</caption>\n",
       "<thead>\n",
       "\t<tr><th scope=col>target_class</th><th scope=col>count</th><th scope=col>percentage</th></tr>\n",
       "\t<tr><th scope=col>&lt;fct&gt;</th><th scope=col>&lt;int&gt;</th><th scope=col>&lt;dbl&gt;</th></tr>\n",
       "</thead>\n",
       "<tbody>\n",
       "\t<tr><td>0</td><td>8553</td><td>91.028097</td></tr>\n",
       "\t<tr><td>1</td><td> 843</td><td> 8.971903</td></tr>\n",
       "</tbody>\n",
       "</table>\n"
      ],
      "text/latex": [
       "A tibble: 2 × 3\n",
       "\\begin{tabular}{lll}\n",
       " target\\_class & count & percentage\\\\\n",
       " <fct> & <int> & <dbl>\\\\\n",
       "\\hline\n",
       "\t 0 & 8553 & 91.028097\\\\\n",
       "\t 1 &  843 &  8.971903\\\\\n",
       "\\end{tabular}\n"
      ],
      "text/markdown": [
       "\n",
       "A tibble: 2 × 3\n",
       "\n",
       "| target_class &lt;fct&gt; | count &lt;int&gt; | percentage &lt;dbl&gt; |\n",
       "|---|---|---|\n",
       "| 0 | 8553 | 91.028097 |\n",
       "| 1 |  843 |  8.971903 |\n",
       "\n"
      ],
      "text/plain": [
       "  target_class count percentage\n",
       "1 0            8553  91.028097 \n",
       "2 1             843   8.971903 "
      ]
     },
     "metadata": {},
     "output_type": "display_data"
    }
   ],
   "source": [
    "# computing percentage of each class {percentage of observations which are pulsar and which are not pulsar}\n",
    "num_obs <- nrow(pulsar_training)\n",
    "pulsar_training %>%\n",
    "  group_by(target_class) %>%\n",
    "  summarize(\n",
    "    count = n(),\n",
    "    percentage = n() / num_obs * 100\n",
    "  )"
   ]
  },
  {
   "cell_type": "markdown",
   "metadata": {},
   "source": [
    "We notice at this point that only 9% of our training data is actually classfied as a pulsar star, the rest 91% is noise"
   ]
  },
  {
   "cell_type": "code",
   "execution_count": 11,
   "metadata": {},
   "outputs": [
    {
     "data": {
      "text/html": [
       "0"
      ],
      "text/latex": [
       "0"
      ],
      "text/markdown": [
       "0"
      ],
      "text/plain": [
       "[1] 0"
      ]
     },
     "metadata": {},
     "output_type": "display_data"
    }
   ],
   "source": [
    "# calculating number of rows with missing observations \n",
    "sum(is.na(pulsar_training))"
   ]
  },
  {
   "cell_type": "markdown",
   "metadata": {},
   "source": [
    "here we notice that none of the observations have a missing mean of integrating profile and DM-SNR making them prime candidates for our data exploration"
   ]
  },
  {
   "cell_type": "code",
   "execution_count": 12,
   "metadata": {},
   "outputs": [
    {
     "data": {
      "text/html": [
       "<table>\n",
       "<caption>A tibble: 1 × 2</caption>\n",
       "<thead>\n",
       "\t<tr><th scope=col>mean_profile</th><th scope=col>mean_dmsnr</th></tr>\n",
       "\t<tr><th scope=col>&lt;dbl&gt;</th><th scope=col>&lt;dbl&gt;</th></tr>\n",
       "</thead>\n",
       "<tbody>\n",
       "\t<tr><td>111.0663</td><td>12.80733</td></tr>\n",
       "</tbody>\n",
       "</table>\n"
      ],
      "text/latex": [
       "A tibble: 1 × 2\n",
       "\\begin{tabular}{ll}\n",
       " mean\\_profile & mean\\_dmsnr\\\\\n",
       " <dbl> & <dbl>\\\\\n",
       "\\hline\n",
       "\t 111.0663 & 12.80733\\\\\n",
       "\\end{tabular}\n"
      ],
      "text/markdown": [
       "\n",
       "A tibble: 1 × 2\n",
       "\n",
       "| mean_profile &lt;dbl&gt; | mean_dmsnr &lt;dbl&gt; |\n",
       "|---|---|\n",
       "| 111.0663 | 12.80733 |\n",
       "\n"
      ],
      "text/plain": [
       "  mean_profile mean_dmsnr\n",
       "1 111.0663     12.80733  "
      ]
     },
     "metadata": {},
     "output_type": "display_data"
    }
   ],
   "source": [
    "# computing means of each predictor \n",
    "mean_table <- select(pulsar_training, mean_profile:mean_dmsnr)  %>%\n",
    "map_df(mean)\n",
    "mean_table"
   ]
  },
  {
   "cell_type": "markdown",
   "metadata": {},
   "source": [
    "The means of the mean_profile and mean_dmsnr are approximately 111.0 and 12.5 respectively"
   ]
  },
  {
   "cell_type": "code",
   "execution_count": 13,
   "metadata": {},
   "outputs": [
    {
     "data": {
      "image/png": "[encoded data removed]",
      "text/plain": [
       "plot without title"
      ]
     },
     "metadata": {
      "image/png": {
       "height": 420,
       "width": 900
      }
     },
     "output_type": "display_data"
    }
   ],
   "source": [
    "options(repr.plot.width = 15, repr.plot.height = 7) \n",
    "pulsar_training_plot <- pulsar_training %>%\n",
    "ggplot(aes(x = mean_profile, y = mean_dmsnr, color = target_class, shape = target_class)) +\n",
    "geom_point(alpha = 0.6)+\n",
    "xlab(\"mean of the integrated profile\") +\n",
    "ylab(\"mean of DM-SNR\") +\n",
    "labs(title = \"Scatter Plot comapring means of Integrated Profile and DM-SNR\", colour = \"Is a pulsar star? (0 = no, 1 = yes)\", shape = \"Is a pulsar star? (0 = no, 1 = yes)\")+\n",
    "theme(text = element_text(size = 20))\n",
    "pulsar_training_plot"
   ]
  },
  {
   "cell_type": "code",
   "execution_count": 14,
   "metadata": {},
   "outputs": [
    {
     "data": {
      "text/plain": [
       "Data Recipe\n",
       "\n",
       "Inputs:\n",
       "\n",
       "      role #variables\n",
       "   outcome          1\n",
       " predictor          2\n",
       "\n",
       "Operations:\n",
       "\n",
       "Scaling for all_predictors()\n",
       "Centering for all_predictors()"
      ]
     },
     "metadata": {},
     "output_type": "display_data"
    }
   ],
   "source": [
    "# Use recipe to clarify the target and predictors\n",
    "pulsar_recipe <- recipe(target_class ~., data = pulsar) %>% \n",
    "    step_scale(all_predictors()) %>% \n",
    "    step_center(all_predictors()) \n",
    "pulsar_recipe"
   ]
  },
  {
   "cell_type": "code",
   "execution_count": 15,
   "metadata": {},
   "outputs": [
    {
     "data": {
      "text/plain": [
       "K-Nearest Neighbor Model Specification (classification)\n",
       "\n",
       "Main Arguments:\n",
       "  neighbors = tune()\n",
       "  weight_func = rectangular\n",
       "\n",
       "Computational engine: kknn \n"
      ]
     },
     "metadata": {},
     "output_type": "display_data"
    }
   ],
   "source": [
    "# Create a model specification for K-nearest neighbors classification\n",
    "knn_spec <- nearest_neighbor(weight_func = \"rectangular\", neighbors = tune()) %>% #weight_func = rectangular allows each neighbor to have 1 vote\n",
    "    set_engine(\"kknn\") %>%\n",
    "    set_mode(\"classification\")\n",
    "knn_spec "
   ]
  },
  {
   "cell_type": "code",
   "execution_count": 16,
   "metadata": {},
   "outputs": [],
   "source": [
    "# Make a data frame for K values\n",
    "k_vals <- tibble(neighbors = seq(from = 1, to = 20))"
   ]
  },
  {
   "cell_type": "code",
   "execution_count": 17,
   "metadata": {},
   "outputs": [],
   "source": [
    "# Split the data with Cross-validation method\n",
    "pulsar_vfold <- vfold_cv(pulsar, v = 5, strata = target_class)\n",
    " #5 or 10 usually. Higher fold = lower standard error = more computation = more time to run computer"
   ]
  },
  {
   "cell_type": "code",
   "execution_count": 18,
   "metadata": {},
   "outputs": [],
   "source": [
    "# Fit the knn model\n",
    "# Aggregate the mean and standard error of the classifier's validation accuracy\n",
    "knn_results <- workflow() %>% \n",
    "add_recipe(pulsar_recipe) %>% \n",
    "add_model(knn_spec) %>% \n",
    "tune_grid(resamples = pulsar_vfold, grid = k_vals) %>% \n",
    "collect_metrics()"
   ]
  },
  {
   "cell_type": "code",
   "execution_count": 19,
   "metadata": {},
   "outputs": [
    {
     "data": {
      "text/html": [
       "<table>\n",
       "<caption>A tibble: 20 × 7</caption>\n",
       "<thead>\n",
       "\t<tr><th scope=col>neighbors</th><th scope=col>.metric</th><th scope=col>.estimator</th><th scope=col>mean</th><th scope=col>n</th><th scope=col>std_err</th><th scope=col>.config</th></tr>\n",
       "\t<tr><th scope=col>&lt;int&gt;</th><th scope=col>&lt;chr&gt;</th><th scope=col>&lt;chr&gt;</th><th scope=col>&lt;dbl&gt;</th><th scope=col>&lt;int&gt;</th><th scope=col>&lt;dbl&gt;</th><th scope=col>&lt;chr&gt;</th></tr>\n",
       "</thead>\n",
       "<tbody>\n",
       "\t<tr><td> 1</td><td>accuracy</td><td>binary</td><td>0.9562580</td><td>5</td><td>0.0012716378</td><td>Model01</td></tr>\n",
       "\t<tr><td> 2</td><td>accuracy</td><td>binary</td><td>0.9562580</td><td>5</td><td>0.0012716378</td><td>Model02</td></tr>\n",
       "\t<tr><td> 3</td><td>accuracy</td><td>binary</td><td>0.9691089</td><td>5</td><td>0.0012230561</td><td>Model03</td></tr>\n",
       "\t<tr><td> 4</td><td>accuracy</td><td>binary</td><td>0.9691089</td><td>5</td><td>0.0012230561</td><td>Model04</td></tr>\n",
       "\t<tr><td> 5</td><td>accuracy</td><td>binary</td><td>0.9705458</td><td>5</td><td>0.0007941851</td><td>Model05</td></tr>\n",
       "\t<tr><td> 6</td><td>accuracy</td><td>binary</td><td>0.9705458</td><td>5</td><td>0.0007941851</td><td>Model06</td></tr>\n",
       "\t<tr><td> 7</td><td>accuracy</td><td>binary</td><td>0.9716633</td><td>5</td><td>0.0008096860</td><td>Model07</td></tr>\n",
       "\t<tr><td> 8</td><td>accuracy</td><td>binary</td><td>0.9716633</td><td>5</td><td>0.0008096860</td><td>Model08</td></tr>\n",
       "\t<tr><td> 9</td><td>accuracy</td><td>binary</td><td>0.9716632</td><td>5</td><td>0.0009378162</td><td>Model09</td></tr>\n",
       "\t<tr><td>10</td><td>accuracy</td><td>binary</td><td>0.9716632</td><td>5</td><td>0.0009378162</td><td>Model10</td></tr>\n",
       "\t<tr><td>11</td><td>accuracy</td><td>binary</td><td>0.9716632</td><td>5</td><td>0.0012450061</td><td>Model11</td></tr>\n",
       "\t<tr><td>12</td><td>accuracy</td><td>binary</td><td>0.9716632</td><td>5</td><td>0.0012450061</td><td>Model12</td></tr>\n",
       "\t<tr><td>13</td><td>accuracy</td><td>binary</td><td>0.9715833</td><td>5</td><td>0.0011480850</td><td>Model13</td></tr>\n",
       "\t<tr><td>14</td><td>accuracy</td><td>binary</td><td>0.9715833</td><td>5</td><td>0.0011480850</td><td>Model14</td></tr>\n",
       "\t<tr><td>15</td><td>accuracy</td><td>binary</td><td>0.9717429</td><td>5</td><td>0.0013221642</td><td>Model15</td></tr>\n",
       "\t<tr><td>16</td><td>accuracy</td><td>binary</td><td>0.9717429</td><td>5</td><td>0.0013221642</td><td>Model16</td></tr>\n",
       "\t<tr><td>17</td><td>accuracy</td><td>binary</td><td>0.9715034</td><td>5</td><td>0.0014934139</td><td>Model17</td></tr>\n",
       "\t<tr><td>18</td><td>accuracy</td><td>binary</td><td>0.9715034</td><td>5</td><td>0.0014934139</td><td>Model18</td></tr>\n",
       "\t<tr><td>19</td><td>accuracy</td><td>binary</td><td>0.9719025</td><td>5</td><td>0.0014334755</td><td>Model19</td></tr>\n",
       "\t<tr><td>20</td><td>accuracy</td><td>binary</td><td>0.9719025</td><td>5</td><td>0.0014334755</td><td>Model20</td></tr>\n",
       "</tbody>\n",
       "</table>\n"
      ],
      "text/latex": [
       "A tibble: 20 × 7\n",
       "\\begin{tabular}{lllllll}\n",
       " neighbors & .metric & .estimator & mean & n & std\\_err & .config\\\\\n",
       " <int> & <chr> & <chr> & <dbl> & <int> & <dbl> & <chr>\\\\\n",
       "\\hline\n",
       "\t  1 & accuracy & binary & 0.9562580 & 5 & 0.0012716378 & Model01\\\\\n",
       "\t  2 & accuracy & binary & 0.9562580 & 5 & 0.0012716378 & Model02\\\\\n",
       "\t  3 & accuracy & binary & 0.9691089 & 5 & 0.0012230561 & Model03\\\\\n",
       "\t  4 & accuracy & binary & 0.9691089 & 5 & 0.0012230561 & Model04\\\\\n",
       "\t  5 & accuracy & binary & 0.9705458 & 5 & 0.0007941851 & Model05\\\\\n",
       "\t  6 & accuracy & binary & 0.9705458 & 5 & 0.0007941851 & Model06\\\\\n",
       "\t  7 & accuracy & binary & 0.9716633 & 5 & 0.0008096860 & Model07\\\\\n",
       "\t  8 & accuracy & binary & 0.9716633 & 5 & 0.0008096860 & Model08\\\\\n",
       "\t  9 & accuracy & binary & 0.9716632 & 5 & 0.0009378162 & Model09\\\\\n",
       "\t 10 & accuracy & binary & 0.9716632 & 5 & 0.0009378162 & Model10\\\\\n",
       "\t 11 & accuracy & binary & 0.9716632 & 5 & 0.0012450061 & Model11\\\\\n",
       "\t 12 & accuracy & binary & 0.9716632 & 5 & 0.0012450061 & Model12\\\\\n",
       "\t 13 & accuracy & binary & 0.9715833 & 5 & 0.0011480850 & Model13\\\\\n",
       "\t 14 & accuracy & binary & 0.9715833 & 5 & 0.0011480850 & Model14\\\\\n",
       "\t 15 & accuracy & binary & 0.9717429 & 5 & 0.0013221642 & Model15\\\\\n",
       "\t 16 & accuracy & binary & 0.9717429 & 5 & 0.0013221642 & Model16\\\\\n",
       "\t 17 & accuracy & binary & 0.9715034 & 5 & 0.0014934139 & Model17\\\\\n",
       "\t 18 & accuracy & binary & 0.9715034 & 5 & 0.0014934139 & Model18\\\\\n",
       "\t 19 & accuracy & binary & 0.9719025 & 5 & 0.0014334755 & Model19\\\\\n",
       "\t 20 & accuracy & binary & 0.9719025 & 5 & 0.0014334755 & Model20\\\\\n",
       "\\end{tabular}\n"
      ],
      "text/markdown": [
       "\n",
       "A tibble: 20 × 7\n",
       "\n",
       "| neighbors &lt;int&gt; | .metric &lt;chr&gt; | .estimator &lt;chr&gt; | mean &lt;dbl&gt; | n &lt;int&gt; | std_err &lt;dbl&gt; | .config &lt;chr&gt; |\n",
       "|---|---|---|---|---|---|---|\n",
       "|  1 | accuracy | binary | 0.9562580 | 5 | 0.0012716378 | Model01 |\n",
       "|  2 | accuracy | binary | 0.9562580 | 5 | 0.0012716378 | Model02 |\n",
       "|  3 | accuracy | binary | 0.9691089 | 5 | 0.0012230561 | Model03 |\n",
       "|  4 | accuracy | binary | 0.9691089 | 5 | 0.0012230561 | Model04 |\n",
       "|  5 | accuracy | binary | 0.9705458 | 5 | 0.0007941851 | Model05 |\n",
       "|  6 | accuracy | binary | 0.9705458 | 5 | 0.0007941851 | Model06 |\n",
       "|  7 | accuracy | binary | 0.9716633 | 5 | 0.0008096860 | Model07 |\n",
       "|  8 | accuracy | binary | 0.9716633 | 5 | 0.0008096860 | Model08 |\n",
       "|  9 | accuracy | binary | 0.9716632 | 5 | 0.0009378162 | Model09 |\n",
       "| 10 | accuracy | binary | 0.9716632 | 5 | 0.0009378162 | Model10 |\n",
       "| 11 | accuracy | binary | 0.9716632 | 5 | 0.0012450061 | Model11 |\n",
       "| 12 | accuracy | binary | 0.9716632 | 5 | 0.0012450061 | Model12 |\n",
       "| 13 | accuracy | binary | 0.9715833 | 5 | 0.0011480850 | Model13 |\n",
       "| 14 | accuracy | binary | 0.9715833 | 5 | 0.0011480850 | Model14 |\n",
       "| 15 | accuracy | binary | 0.9717429 | 5 | 0.0013221642 | Model15 |\n",
       "| 16 | accuracy | binary | 0.9717429 | 5 | 0.0013221642 | Model16 |\n",
       "| 17 | accuracy | binary | 0.9715034 | 5 | 0.0014934139 | Model17 |\n",
       "| 18 | accuracy | binary | 0.9715034 | 5 | 0.0014934139 | Model18 |\n",
       "| 19 | accuracy | binary | 0.9719025 | 5 | 0.0014334755 | Model19 |\n",
       "| 20 | accuracy | binary | 0.9719025 | 5 | 0.0014334755 | Model20 |\n",
       "\n"
      ],
      "text/plain": [
       "   neighbors .metric  .estimator mean      n std_err      .config\n",
       "1   1        accuracy binary     0.9562580 5 0.0012716378 Model01\n",
       "2   2        accuracy binary     0.9562580 5 0.0012716378 Model02\n",
       "3   3        accuracy binary     0.9691089 5 0.0012230561 Model03\n",
       "4   4        accuracy binary     0.9691089 5 0.0012230561 Model04\n",
       "5   5        accuracy binary     0.9705458 5 0.0007941851 Model05\n",
       "6   6        accuracy binary     0.9705458 5 0.0007941851 Model06\n",
       "7   7        accuracy binary     0.9716633 5 0.0008096860 Model07\n",
       "8   8        accuracy binary     0.9716633 5 0.0008096860 Model08\n",
       "9   9        accuracy binary     0.9716632 5 0.0009378162 Model09\n",
       "10 10        accuracy binary     0.9716632 5 0.0009378162 Model10\n",
       "11 11        accuracy binary     0.9716632 5 0.0012450061 Model11\n",
       "12 12        accuracy binary     0.9716632 5 0.0012450061 Model12\n",
       "13 13        accuracy binary     0.9715833 5 0.0011480850 Model13\n",
       "14 14        accuracy binary     0.9715833 5 0.0011480850 Model14\n",
       "15 15        accuracy binary     0.9717429 5 0.0013221642 Model15\n",
       "16 16        accuracy binary     0.9717429 5 0.0013221642 Model16\n",
       "17 17        accuracy binary     0.9715034 5 0.0014934139 Model17\n",
       "18 18        accuracy binary     0.9715034 5 0.0014934139 Model18\n",
       "19 19        accuracy binary     0.9719025 5 0.0014334755 Model19\n",
       "20 20        accuracy binary     0.9719025 5 0.0014334755 Model20"
      ]
     },
     "metadata": {},
     "output_type": "display_data"
    }
   ],
   "source": [
    "# Find accuracy\n",
    "accuracies <- knn_results %>% \n",
    "filter(.metric == \"accuracy\")\n",
    "accuracies"
   ]
  },
  {
   "cell_type": "code",
   "execution_count": 20,
   "metadata": {},
   "outputs": [
    {
     "data": {
      "image/png": "[encoded data removed]",
      "text/plain": [
       "plot without title"
      ]
     },
     "metadata": {
      "image/png": {
       "height": 420,
       "width": 900
      }
     },
     "output_type": "display_data"
    }
   ],
   "source": [
    "# Plot the accuracy and neighbors\n",
    "accuracy_vs_k <- ggplot(accuracies, aes(x = neighbors, y = mean)) +\n",
    "geom_point() +\n",
    "geom_line() + \n",
    "labs(x = \"Neighbors\", y = \"Accuracy Estimate\") +\n",
    "ggtitle(\"Figure 1: Check the accuracy with the K value we chose\")\n",
    "\n",
    "accuracy_vs_k"
   ]
  },
  {
   "cell_type": "markdown",
   "metadata": {},
   "source": [
    "We would like to select K = 11 as our nearest neighbors since the Accuracy Estimate only increases to a small extent with high numbers of K nearest neighbors."
   ]
  },
  {
   "cell_type": "code",
   "execution_count": 24,
   "metadata": {},
   "outputs": [
    {
     "data": {
      "text/plain": [
       "K-Nearest Neighbor Model Specification (classification)\n",
       "\n",
       "Main Arguments:\n",
       "  neighbors = 11\n",
       "  weight_func = rectangular\n",
       "\n",
       "Computational engine: kknn \n"
      ]
     },
     "metadata": {},
     "output_type": "display_data"
    }
   ],
   "source": [
    "# New model specification for the best parameter value\n",
    "knn_best_spec <- nearest_neighbor(weight_func = \"rectangular\", neighbors = 11) %>% #weight_func = rectangular allows each neighbor to have 1 vote\n",
    "    set_engine(\"kknn\") %>%\n",
    "    set_mode(\"classification\")\n",
    "knn_best_spec"
   ]
  },
  {
   "cell_type": "code",
   "execution_count": 25,
   "metadata": {},
   "outputs": [
    {
     "data": {
      "text/plain": [
       "══ Workflow [trained] ══════════════════════════════════════════════════════════\n",
       "\u001b[3mPreprocessor:\u001b[23m Recipe\n",
       "\u001b[3mModel:\u001b[23m nearest_neighbor()\n",
       "\n",
       "── Preprocessor ────────────────────────────────────────────────────────────────\n",
       "2 Recipe Steps\n",
       "\n",
       "● step_scale()\n",
       "● step_center()\n",
       "\n",
       "── Model ───────────────────────────────────────────────────────────────────────\n",
       "\n",
       "Call:\n",
       "kknn::train.kknn(formula = ..y ~ ., data = data, ks = ~11, kernel = ~\"rectangular\")\n",
       "\n",
       "Type of response variable: nominal\n",
       "Minimal misclassification: 0.02820349\n",
       "Best kernel: rectangular\n",
       "Best k: 11"
      ]
     },
     "metadata": {},
     "output_type": "display_data"
    }
   ],
   "source": [
    "# Retrain the classifier with fit function\n",
    "knn_best_fit <- workflow() %>% \n",
    "    add_recipe(pulsar_recipe) %>% \n",
    "    add_model(knn_best_spec) %>% \n",
    "    fit(data = pulsar_training)\n",
    "knn_best_fit"
   ]
  },
  {
   "cell_type": "code",
   "execution_count": 26,
   "metadata": {},
   "outputs": [],
   "source": [
    "# Predict with testing data\n",
    "pulsar_test_predictions <- predict(knn_best_fit, pulsar_testing) %>% \n",
    "    bind_cols(pulsar_testing)\n"
   ]
  },
  {
   "cell_type": "code",
   "execution_count": 27,
   "metadata": {},
   "outputs": [
    {
     "data": {
      "text/html": [
       "<table>\n",
       "<caption>A tibble: 1 × 3</caption>\n",
       "<thead>\n",
       "\t<tr><th scope=col>.metric</th><th scope=col>.estimator</th><th scope=col>.estimate</th></tr>\n",
       "\t<tr><th scope=col>&lt;chr&gt;</th><th scope=col>&lt;chr&gt;</th><th scope=col>&lt;dbl&gt;</th></tr>\n",
       "</thead>\n",
       "<tbody>\n",
       "\t<tr><td>accuracy</td><td>binary</td><td>0.9683908</td></tr>\n",
       "</tbody>\n",
       "</table>\n"
      ],
      "text/latex": [
       "A tibble: 1 × 3\n",
       "\\begin{tabular}{lll}\n",
       " .metric & .estimator & .estimate\\\\\n",
       " <chr> & <chr> & <dbl>\\\\\n",
       "\\hline\n",
       "\t accuracy & binary & 0.9683908\\\\\n",
       "\\end{tabular}\n"
      ],
      "text/markdown": [
       "\n",
       "A tibble: 1 × 3\n",
       "\n",
       "| .metric &lt;chr&gt; | .estimator &lt;chr&gt; | .estimate &lt;dbl&gt; |\n",
       "|---|---|---|\n",
       "| accuracy | binary | 0.9683908 |\n",
       "\n"
      ],
      "text/plain": [
       "  .metric  .estimator .estimate\n",
       "1 accuracy binary     0.9683908"
      ]
     },
     "metadata": {},
     "output_type": "display_data"
    }
   ],
   "source": [
    "# Evaluate the estimated accuracy of the classifier\n",
    "pulsar_metrics <- pulsar_test_predictions %>%\n",
    "                metrics(truth = target_class, estimate = .pred_class) %>%\n",
    "                filter(.metric == \"accuracy\")\n",
    "pulsar_metrics"
   ]
  },
  {
   "cell_type": "code",
   "execution_count": 28,
   "metadata": {},
   "outputs": [
    {
     "data": {
      "text/plain": [
       "          Truth\n",
       "Prediction    0    1\n",
       "         0 2807   84\n",
       "         1   15  226"
      ]
     },
     "metadata": {},
     "output_type": "display_data"
    }
   ],
   "source": [
    "# Calculate cross-tabulation of observed and predicted classes\n",
    "pulsar_conf_mat <- pulsar_test_predictions %>%\n",
    "                    conf_mat(truth = target_class, estimate = .pred_class)\n",
    "pulsar_conf_mat"
   ]
  },
  {
   "cell_type": "markdown",
   "metadata": {},
   "source": [
    "## Discussion"
   ]
  },
  {
   "cell_type": "markdown",
   "metadata": {},
   "source": [
    "## References"
   ]
  },
  {
   "cell_type": "markdown",
   "metadata": {},
   "source": [
    "Pulsars are fantastic cosmic tools for scientists to study a wide range of phenomena. Scientists also use pulsars to study extreme states of matter, search for planets beyond Earth's solar system and measure cosmic distances[(Cofield, 2016.)][https://www.space.com/32661-pulsars.html]. Pulsars also could help scientists find gravitational waves, which could point the way to energetic cosmic events like collisions between supermassive black holes.[(Buongiorno, C. ,2021)](https://astronomy.com/magazine/news/2021/10/neutron-stars-a-cosmic-gold-mine)\n",
    "Buongiorno, C. (2021). Neutron stars: A cosmic gold mine. Retrieved 6 November 2021, from https://astronomy.com/magazine/news/2021/10/neutron-stars-a-cosmic-gold-mine\n",
    "\n",
    "\n",
    "Cofield, Calla. “What Are Pulsars?” Space.com, Space, 22 Apr. 2016, [https://www.space.com/32661-pulsars.html](https://www.space.com/32661-pulsars.html). \n",
    "\n",
    "Florez, Alexander Ylnner Choquenaira, et al. \"Machine Learning Pipeline for Pulsar Star Dataset.\" arXiv preprint arXiv:2005.01208 (2020).\n",
    "\n",
    "Lyon, Robert J., et al. \"Fifty years of pulsar candidate selection: from simple filters to a new principled real-time classification approach.\" Monthly Notices of the Royal Astronomical Society 459.1 (2016): 1104-1123.\n",
    "\n",
    "Mohamed, T.M.: Pulsar selection using fuzzy knn classifier. Future Computing and Informatics Journal 3(1), 1 – 6 (2018).\n",
    "https://doi.org/https://doi.org/10.1016/j.fcij.2017.11.001, http://www.\n",
    "sciencedirect.com/science/article/pii/S2314728817300776\n",
    "\n",
    "NASA. “Pulsar Star GIF NASA.” GIPHY, NASA, [https://media3.giphy.com/media/l3dj5M4YLaFww31V6/giphy.gif](https://media3.giphy.com/media/l3dj5M4YLaFww31V6/giphy.gif). Accessed 7 Dec. 2021. \n",
    "\n",
    "Witze, Alexandra. “NASA Test Proves Pulsars Can Function as a Celestial GPS.” Nature News, Nature Publishing Group, 11 Jan. 2018, www.nature.com/articles/d41586-018-00478-8\n",
    "\n",
    "\n",
    "\n",
    "\n",
    "\n"
   ]
  }
 ],
 "metadata": {
  "kernelspec": {
   "display_name": "R",
   "language": "R",
   "name": "ir"
  },
  "language_info": {
   "codemirror_mode": "r",
   "file_extension": ".r",
   "mimetype": "text/x-r-source",
   "name": "R",
   "pygments_lexer": "r",
   "version": "4.0.0"
  }
 },
 "nbformat": 4,
 "nbformat_minor": 4
}
