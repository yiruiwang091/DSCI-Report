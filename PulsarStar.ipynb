{
 "cells": [
  {
   "cell_type": "markdown",
   "metadata": {},
   "source": [
    "# Pulsar Star Prediction"
   ]
  },
  {
   "cell_type": "markdown",
   "metadata": {},
   "source": [
    "###### DSCI 100 Group Project Final Report"
   ]
  },
  {
   "cell_type": "markdown",
   "metadata": {},
   "source": [
    "## Introduction"
   ]
  },
  {
   "cell_type": "markdown",
   "metadata": {},
   "source": [
    "**Pulsar** *(from **pulsa**ting **r**adio source)* or Pulsar Stars are highly magnetic, rotating, compact heavenly bodies often viewed as flickering “stars” from the earth's night sky. Pulsar stars belong to the family of neutron stars which emit beams of electromagnetic radiation from their poles. Due to its high degree of rotation, the radiation from its poles appears to be pulsating or flickering from the earth, hence its name.\n",
    "\n",
    "Pulsars are fantastic cosmic tools for scientists to study a wide range of phenomena. Scientists are using pulsars to study extreme states of matter, search for planets beyond Earth's solar system and measure cosmic distances. Pulsars also could help scientists find gravitational waves, which could point the way to energetic cosmic events like collisions between supermassive black holes [(Cofield, Calla.)](https://www.space.com/32661-pulsars.html). We mainly detect pulsar stars by studying the radio frequencies received by telescopes. Often radio interferences and random noises interfere and make it hard to detect. Through this project, we aim to produce a predictive classifier that helps identify if received measurements are from pulsar stars or not. As we see this project relates with binary classification problems."
   ]
  },
  {
   "cell_type": "markdown",
   "metadata": {},
   "source": [
    "## References"
   ]
  },
  {
   "cell_type": "markdown",
   "metadata": {},
   "source": [
    "Cofield, Calla. “What Are Pulsars?” Space.com, Space, 22 Apr. 2016, [https://www.space.com/32661-pulsars.html](https://www.space.com/32661-pulsars.html). \n"
   ]
  },
  {
   "cell_type": "code",
   "execution_count": null,
   "metadata": {},
   "outputs": [],
   "source": []
  }
 ],
 "metadata": {
  "kernelspec": {
   "display_name": "R",
   "language": "R",
   "name": "ir"
  },
  "language_info": {
   "codemirror_mode": "r",
   "file_extension": ".r",
   "mimetype": "text/x-r-source",
   "name": "R",
   "pygments_lexer": "r",
   "version": "4.0.0"
  }
 },
 "nbformat": 4,
 "nbformat_minor": 4
}
