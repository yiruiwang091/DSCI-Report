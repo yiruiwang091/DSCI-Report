{
 "cells": [
  {
   "cell_type": "markdown",
   "metadata": {},
   "source": [
    "# Pulsar Star Prediction"
   ]
  },
  {
   "cell_type": "markdown",
   "metadata": {},
   "source": [
    "## Introduction"
   ]
  },
  {
   "cell_type": "markdown",
   "metadata": {},
   "source": [
    "**Pulsar** *(from **pulsa**ting **r**adio source)* or Pulsar Stars are highly magnetic, rotating, compact heavenly bodies often viewed as flickering “stars” from the earth's night sky. Pulsar stars belong to the family of neutron stars which emit beams of electromagnetic radiation from their poles. Due to its high degree of rotation, the radiation from its poles appears to be pulsating or flickering from the earth, hence its name.\n",
    "\n",
    "Pulsars are fantastic cosmic tools for scientists to study a wide range of phenomena. New pulsar stars allow us to further investigate deeper fields of astronomy, especially guiding spacecraft [(Witze, 2018)](www.nature.com/articles/d41586-018-00478-8) and researching the presence of black holes [(Buongiorno, C. ,2021)](https://astronomy.com/magazine/news/2021/10/neutron-stars-a-cosmic-gold-mine). "
   ]
  },
  {
   "cell_type": "markdown",
   "metadata": {},
   "source": [
    "![PulsarStarURL](https://media3.giphy.com/media/l3dj5M4YLaFww31V6/giphy.gif)"
   ]
  },
  {
   "cell_type": "markdown",
   "metadata": {},
   "source": [
    "Image 1: pulsar star derives a pulsar profile [(NASA)](https://media3.giphy.com/media/l3dj5M4YLaFww31V6/giphy.gif)"
   ]
  },
  {
   "cell_type": "markdown",
   "metadata": {},
   "source": [
    "The above image represents how pulsars profiles are created. When pulsars rotate, their emission beam travels through the sky. Then, a detectable pattern of broadband radio emission produced when this beam crosses our line of sight. According to research, it can be seen that this pattern is repeated periodically when the pulsars spin rapidly [(Mohamed, 2018.)](sciencedirect.com/science/article/pii/S2314728817300776).\n",
    "\n",
    "We mainly detect pulsar stars by studying these detectable radio emissions received by telescopes. Often disturbance and random noise interfere and make it hard to detect. Through this project, we aim to produce a predictive classifier that will help us identify whether the received measurements are from pulsar stars or not. As we see this project relates to the binary classification problem."
   ]
  },
  {
   "cell_type": "markdown",
   "metadata": {},
   "source": [
    "#### Predictive Question"
   ]
  },
  {
   "cell_type": "markdown",
   "metadata": {},
   "source": [
    "Can we use measurements of integrated profile and DM-SNR reading from the telescope to predict if a given reading is from a pulsar star?"
   ]
  },
  {
   "cell_type": "markdown",
   "metadata": {},
   "source": [
    "#### Dataset and its attributes"
   ]
  },
  {
   "cell_type": "markdown",
   "metadata": {},
   "source": [
    "We will be using the [Predicting Pulsar Stars](https://www.kaggle.com/colearninglounge/predicting-pulsar-starintermediate) dataset which collected potential pulsar candidates during the High Time Resolution Universe Survey.\n",
    "Each signal is described by eight continuous variables, and a single class variable. The first four are simple statistics obtained from the integrated pulse profile and the remaining four variables are similarly obtained from the DM-SNR curve. These variables are:\n",
    "\n",
    "Mean of the integrated profile.\n",
    "\n",
    "Standard deviation of the integrated profile.\n",
    "\n",
    "Excess kurtosis of the integrated profile.\n",
    "\n",
    "Skewness of the integrated profile.\n",
    "\n",
    "Mean of the DM-SNR curve.\n",
    "\n",
    "Standard deviation of the DM-SNR curve.\n",
    "\n",
    "Excess kurtosis of the DM-SNR curve.\n",
    "\n",
    "Skewness of the DM-SNR curve.\n",
    "\n",
    "target_class *(0 if it is not a pulsar star and 1 if it is a pulsar star)*\n"
   ]
  },
  {
   "cell_type": "markdown",
   "metadata": {},
   "source": [
    "#### Variables of Intrest"
   ]
  },
  {
   "cell_type": "markdown",
   "metadata": {},
   "source": [
    "In this exploration, we will forecast if an observation belongs to pulsar stars or some random noise. As described by [R. J. Lyon et al.](https://doi.org/10.1093/mnras/stw656), [R. P. Eatough et al.](https://doi.org/10.1111/j.1365-2966.2010.17082.x), measures of integrated profile and DM-SNR both play an integral and essential part in assessing whether a given recording is a pulsar or not. Studying the center of the curves of both integrated profile and DM-SNR can help us categorize if a given observation belongs to a pulsar star or not. Thus in our exploration, we will be studying the center of the curves of the integrated profile and DM-SNR which in our case is given by their respective means."
   ]
  },
  {
   "cell_type": "markdown",
   "metadata": {},
   "source": [
    "## Methods and Results"
   ]
  },
  {
   "cell_type": "code",
   "execution_count": null,
   "metadata": {},
   "outputs": [],
   "source": []
  },
  {
   "cell_type": "markdown",
   "metadata": {},
   "source": [
    "## References"
   ]
  },
  {
   "cell_type": "markdown",
   "metadata": {},
   "source": [
    "Buongiorno, C. (2021). Neutron stars: A cosmic gold mine. Retrieved 6 November 2021, from https://astronomy.com/magazine/news/2021/10/neutron-stars-a-cosmic-gold-mine\n",
    "\n",
    "\n",
    "Cofield, Calla. “What Are Pulsars?” Space.com, Space, 22 Apr. 2016, [https://www.space.com/32661-pulsars.html](https://www.space.com/32661-pulsars.html). \n",
    "\n",
    "Florez, Alexander Ylnner Choquenaira, et al. \"Machine Learning Pipeline for Pulsar Star Dataset.\" arXiv preprint arXiv:2005.01208 (2020).\n",
    "\n",
    "Mohamed, T.M.: Pulsar selection using fuzzy knn classifier. Future Computing and Informatics Journal 3(1), 1 – 6 (2018).\n",
    "https://doi.org/https://doi.org/10.1016/j.fcij.2017.11.001, http://www.\n",
    "sciencedirect.com/science/article/pii/S2314728817300776\n",
    "\n",
    "NASA. “Pulsar Star GIF NASA.” GIPHY, NASA, [https://media3.giphy.com/media/l3dj5M4YLaFww31V6/giphy.gif](https://media3.giphy.com/media/l3dj5M4YLaFww31V6/giphy.gif). Accessed 7 Dec. 2021. \n",
    "\n",
    "Witze, Alexandra. “NASA Test Proves Pulsars Can Function as a Celestial GPS.” Nature News, Nature Publishing Group, 11 Jan. 2018, www.nature.com/articles/d41586-018-00478-8\n",
    "\n",
    "\n",
    "\n",
    "\n",
    "\n"
   ]
  },
  {
   "cell_type": "code",
   "execution_count": null,
   "metadata": {},
   "outputs": [],
   "source": []
  }
 ],
 "metadata": {
  "kernelspec": {
   "display_name": "R",
   "language": "R",
   "name": "ir"
  },
  "language_info": {
   "codemirror_mode": "r",
   "file_extension": ".r",
   "mimetype": "text/x-r-source",
   "name": "R",
   "pygments_lexer": "r",
   "version": "4.0.0"
  }
 },
 "nbformat": 4,
 "nbformat_minor": 4
}
