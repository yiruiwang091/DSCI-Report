{
 "cells": [
  {
   "cell_type": "markdown",
   "metadata": {},
   "source": [
    "# Pulsar Star Prediction"
   ]
  },
  {
   "cell_type": "markdown",
   "metadata": {},
   "source": [
    "###### DSCI 100 Group Project Final Report"
   ]
  },
  {
   "cell_type": "markdown",
   "metadata": {},
   "source": [
    "## Introduction"
   ]
  },
  {
   "cell_type": "markdown",
   "metadata": {},
   "source": [
    "**Pulsar** *(from **pulsa**ting **r**adio source)* or Pulsar Stars are highly magnetic, rotating, compact heavenly bodies often viewed as flickering “stars” from the earth's night sky. Pulsar stars belong to the family of neutron stars which emit beams of electromagnetic radiation from their poles. Due to its high degree of rotation, the radiation from its poles appears to be pulsating or flickering from the earth, hence its name.\n",
    "\n",
    "Pulsars are fantastic cosmic tools for scientists to study a wide range of phenomena. New pulsar stars allow us to further investigate deeper fields of astronomy, especially guiding spacecraft [(Witze, 2018)](www.nature.com/articles/d41586-018-00478-8) and researching the presence of black holes [(Buongiorno, C. ,2021)](https://astronomy.com/magazine/news/2021/10/neutron-stars-a-cosmic-gold-mine). "
   ]
  },
  {
   "cell_type": "markdown",
   "metadata": {},
   "source": [
    "![PulsarStarURL](https://media3.giphy.com/media/l3dj5M4YLaFww31V6/giphy.gif)"
   ]
  },
  {
   "cell_type": "markdown",
   "metadata": {},
   "source": [
    "Image 1: pulsar star derives a pulsar profile [(NASA)](https://media3.giphy.com/media/l3dj5M4YLaFww31V6/giphy.gif)"
   ]
  },
  {
   "cell_type": "markdown",
   "metadata": {},
   "source": [
    "The above image represents how pulsars profiles are created. When pulsars rotate, their emission beam travels through the sky. Then, a detectable pattern of broadband radio emission produced when this beam crosses our line of sight. According to research, it can be seen that this pattern is repeated periodically when the pulsars spin rapidly [(Mohamed, 2018.)](sciencedirect.com/science/article/pii/S2314728817300776).\n",
    "\n",
    "We mainly detect pulsar stars by studying these detectable radio emissions received by telescopes. Often disturbance and random noise interfere and make it hard to detect. Through this project, we aim to produce a predictive classifier that will help us identify whether the received measurements are from pulsar stars or not. As we see this project relates to the binary classification problem."
   ]
  },
  {
   "cell_type": "markdown",
   "metadata": {},
   "source": [
    "## References"
   ]
  },
  {
   "cell_type": "markdown",
   "metadata": {},
   "source": [
    "Buongiorno, C. (2021). Neutron stars: A cosmic gold mine. Retrieved 6 November 2021, from https://astronomy.com/magazine/news/2021/10/neutron-stars-a-cosmic-gold-mine\n",
    "\n",
    "\n",
    "Cofield, Calla. “What Are Pulsars?” Space.com, Space, 22 Apr. 2016, [https://www.space.com/32661-pulsars.html](https://www.space.com/32661-pulsars.html). \n",
    "\n",
    "Florez, Alexander Ylnner Choquenaira, et al. \"Machine Learning Pipeline for Pulsar Star Dataset.\" arXiv preprint arXiv:2005.01208 (2020).\n",
    "\n",
    "Mohamed, T.M.: Pulsar selection using fuzzy knn classifier. Future Computing and Informatics Journal 3(1), 1 – 6 (2018).\n",
    "https://doi.org/https://doi.org/10.1016/j.fcij.2017.11.001, http://www.\n",
    "sciencedirect.com/science/article/pii/S2314728817300776\n",
    "\n",
    "NASA. “Pulsar Star GIF NASA.” GIPHY, NASA, [https://media3.giphy.com/media/l3dj5M4YLaFww31V6/giphy.gif](https://media3.giphy.com/media/l3dj5M4YLaFww31V6/giphy.gif). Accessed 7 Dec. 2021. \n",
    "\n",
    "Witze, Alexandra. “NASA Test Proves Pulsars Can Function as a Celestial GPS.” Nature News, Nature Publishing Group, 11 Jan. 2018, www.nature.com/articles/d41586-018-00478-8\n",
    "\n",
    "\n",
    "\n",
    "\n",
    "\n"
   ]
  },
  {
   "cell_type": "code",
   "execution_count": null,
   "metadata": {},
   "outputs": [],
   "source": []
  }
 ],
 "metadata": {
  "kernelspec": {
   "display_name": "R",
   "language": "R",
   "name": "ir"
  },
  "language_info": {
   "codemirror_mode": "r",
   "file_extension": ".r",
   "mimetype": "text/x-r-source",
   "name": "R",
   "pygments_lexer": "r",
   "version": "4.0.0"
  }
 },
 "nbformat": 4,
 "nbformat_minor": 4
}
